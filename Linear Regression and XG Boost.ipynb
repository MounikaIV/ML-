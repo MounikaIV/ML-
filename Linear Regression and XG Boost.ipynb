{
 "cells": [
  {
   "cell_type": "markdown",
   "metadata": {
    "_cell_guid": "b1076dfc-b9ad-4769-8c92-a6c4dae69d19",
    "_uuid": "8f2839f25d086af736a60e9eeb907d3b93b6e0e5"
   },
   "source": [
    "# Linear Reagression\n",
    "**Dataset** use-Medical Insurance Cost Data.\n",
    "\n",
    "**Objective** -Identify the factors(Independent variables) affecting the price of Medical Insurance. Train a model and check for the assumptions.\n",
    "\n"
   ]
  },
  {
   "cell_type": "code",
   "execution_count": 5,
   "metadata": {
    "execution": {
     "iopub.execute_input": "2023-10-05T13:14:18.912715Z",
     "iopub.status.busy": "2023-10-05T13:14:18.911471Z",
     "iopub.status.idle": "2023-10-05T13:14:20.492248Z",
     "shell.execute_reply": "2023-10-05T13:14:20.491145Z",
     "shell.execute_reply.started": "2023-10-05T13:14:18.912598Z"
    }
   },
   "outputs": [],
   "source": [
    "#importing libraies\n",
    "import numpy as np\n",
    "import pandas as pd\n",
    "import matplotlib.pyplot as plt\n",
    "from sklearn.linear_model import LinearRegression\n",
    "# set the background for the graphs\n",
    "from scipy.stats import skew\n",
    "plt.style.use('ggplot')\n",
    "import seaborn as sns\n",
    "sns.set()\n",
    "from sklearn.preprocessing import OneHotEncoder\n"
   ]
  },
  {
   "cell_type": "code",
   "execution_count": 6,
   "metadata": {
    "execution": {
     "iopub.execute_input": "2023-10-05T13:23:52.650715Z",
     "iopub.status.busy": "2023-10-05T13:23:52.650212Z",
     "iopub.status.idle": "2023-10-05T13:23:52.697849Z",
     "shell.execute_reply": "2023-10-05T13:23:52.697033Z",
     "shell.execute_reply.started": "2023-10-05T13:23:52.650671Z"
    }
   },
   "outputs": [
    {
     "data": {
      "text/html": [
       "<div>\n",
       "<style scoped>\n",
       "    .dataframe tbody tr th:only-of-type {\n",
       "        vertical-align: middle;\n",
       "    }\n",
       "\n",
       "    .dataframe tbody tr th {\n",
       "        vertical-align: top;\n",
       "    }\n",
       "\n",
       "    .dataframe thead th {\n",
       "        text-align: right;\n",
       "    }\n",
       "</style>\n",
       "<table border=\"1\" class=\"dataframe\">\n",
       "  <thead>\n",
       "    <tr style=\"text-align: right;\">\n",
       "      <th></th>\n",
       "      <th>age</th>\n",
       "      <th>sex</th>\n",
       "      <th>bmi</th>\n",
       "      <th>children</th>\n",
       "      <th>smoker</th>\n",
       "      <th>region</th>\n",
       "      <th>charges</th>\n",
       "      <th>is_male</th>\n",
       "      <th>is_smoker</th>\n",
       "      <th>is_southwest</th>\n",
       "      <th>is_northeast</th>\n",
       "      <th>is_northwest</th>\n",
       "    </tr>\n",
       "  </thead>\n",
       "  <tbody>\n",
       "    <tr>\n",
       "      <th>0</th>\n",
       "      <td>19</td>\n",
       "      <td>female</td>\n",
       "      <td>27.900</td>\n",
       "      <td>0</td>\n",
       "      <td>yes</td>\n",
       "      <td>southwest</td>\n",
       "      <td>16884.92400</td>\n",
       "      <td>0</td>\n",
       "      <td>1</td>\n",
       "      <td>1</td>\n",
       "      <td>0</td>\n",
       "      <td>0</td>\n",
       "    </tr>\n",
       "    <tr>\n",
       "      <th>1</th>\n",
       "      <td>18</td>\n",
       "      <td>male</td>\n",
       "      <td>33.770</td>\n",
       "      <td>1</td>\n",
       "      <td>no</td>\n",
       "      <td>southeast</td>\n",
       "      <td>1725.55230</td>\n",
       "      <td>1</td>\n",
       "      <td>0</td>\n",
       "      <td>0</td>\n",
       "      <td>0</td>\n",
       "      <td>0</td>\n",
       "    </tr>\n",
       "    <tr>\n",
       "      <th>2</th>\n",
       "      <td>28</td>\n",
       "      <td>male</td>\n",
       "      <td>33.000</td>\n",
       "      <td>3</td>\n",
       "      <td>no</td>\n",
       "      <td>southeast</td>\n",
       "      <td>4449.46200</td>\n",
       "      <td>1</td>\n",
       "      <td>0</td>\n",
       "      <td>0</td>\n",
       "      <td>0</td>\n",
       "      <td>0</td>\n",
       "    </tr>\n",
       "    <tr>\n",
       "      <th>3</th>\n",
       "      <td>33</td>\n",
       "      <td>male</td>\n",
       "      <td>22.705</td>\n",
       "      <td>0</td>\n",
       "      <td>no</td>\n",
       "      <td>northwest</td>\n",
       "      <td>21984.47061</td>\n",
       "      <td>1</td>\n",
       "      <td>0</td>\n",
       "      <td>0</td>\n",
       "      <td>0</td>\n",
       "      <td>1</td>\n",
       "    </tr>\n",
       "    <tr>\n",
       "      <th>4</th>\n",
       "      <td>32</td>\n",
       "      <td>male</td>\n",
       "      <td>28.880</td>\n",
       "      <td>0</td>\n",
       "      <td>no</td>\n",
       "      <td>northwest</td>\n",
       "      <td>3866.85520</td>\n",
       "      <td>1</td>\n",
       "      <td>0</td>\n",
       "      <td>0</td>\n",
       "      <td>0</td>\n",
       "      <td>1</td>\n",
       "    </tr>\n",
       "  </tbody>\n",
       "</table>\n",
       "</div>"
      ],
      "text/plain": [
       "   age     sex     bmi  children smoker     region      charges  is_male  \\\n",
       "0   19  female  27.900         0    yes  southwest  16884.92400        0   \n",
       "1   18    male  33.770         1     no  southeast   1725.55230        1   \n",
       "2   28    male  33.000         3     no  southeast   4449.46200        1   \n",
       "3   33    male  22.705         0     no  northwest  21984.47061        1   \n",
       "4   32    male  28.880         0     no  northwest   3866.85520        1   \n",
       "\n",
       "   is_smoker  is_southwest  is_northeast  is_northwest  \n",
       "0          1             1             0             0  \n",
       "1          0             0             0             0  \n",
       "2          0             0             0             0  \n",
       "3          0             0             0             1  \n",
       "4          0             0             0             1  "
      ]
     },
     "execution_count": 6,
     "metadata": {},
     "output_type": "execute_result"
    }
   ],
   "source": [
    "#Loading the dataset\n",
    "Input_data = pd.read_csv('insurance.csv')\n",
    "\n",
    "# Let's have a quick look at the dataset\n",
    "\n",
    "Input_data.head()"
   ]
  },
  {
   "cell_type": "code",
   "execution_count": 7,
   "metadata": {
    "execution": {
     "iopub.execute_input": "2023-10-05T13:24:14.596587Z",
     "iopub.status.busy": "2023-10-05T13:24:14.596153Z",
     "iopub.status.idle": "2023-10-05T13:24:14.604048Z",
     "shell.execute_reply": "2023-10-05T13:24:14.602916Z",
     "shell.execute_reply.started": "2023-10-05T13:24:14.596554Z"
    }
   },
   "outputs": [
    {
     "data": {
      "text/plain": [
       "(1338, 12)"
      ]
     },
     "execution_count": 7,
     "metadata": {},
     "output_type": "execute_result"
    }
   ],
   "source": [
    "Input_data.shape"
   ]
  },
  {
   "cell_type": "code",
   "execution_count": 8,
   "metadata": {
    "execution": {
     "iopub.execute_input": "2023-10-05T13:24:31.429311Z",
     "iopub.status.busy": "2023-10-05T13:24:31.428635Z",
     "iopub.status.idle": "2023-10-05T13:24:31.456363Z",
     "shell.execute_reply": "2023-10-05T13:24:31.455175Z",
     "shell.execute_reply.started": "2023-10-05T13:24:31.429268Z"
    }
   },
   "outputs": [
    {
     "name": "stdout",
     "output_type": "stream",
     "text": [
      "<class 'pandas.core.frame.DataFrame'>\n",
      "RangeIndex: 1338 entries, 0 to 1337\n",
      "Data columns (total 12 columns):\n",
      " #   Column        Non-Null Count  Dtype  \n",
      "---  ------        --------------  -----  \n",
      " 0   age           1338 non-null   int64  \n",
      " 1   sex           1338 non-null   object \n",
      " 2   bmi           1338 non-null   float64\n",
      " 3   children      1338 non-null   int64  \n",
      " 4   smoker        1338 non-null   object \n",
      " 5   region        1338 non-null   object \n",
      " 6   charges       1338 non-null   float64\n",
      " 7   is_male       1338 non-null   int64  \n",
      " 8   is_smoker     1338 non-null   int64  \n",
      " 9   is_southwest  1338 non-null   int64  \n",
      " 10  is_northeast  1338 non-null   int64  \n",
      " 11  is_northwest  1338 non-null   int64  \n",
      "dtypes: float64(2), int64(7), object(3)\n",
      "memory usage: 125.6+ KB\n"
     ]
    }
   ],
   "source": [
    "Input_data.info()"
   ]
  },
  {
   "cell_type": "code",
   "execution_count": 9,
   "metadata": {
    "execution": {
     "iopub.execute_input": "2023-10-05T13:26:40.447086Z",
     "iopub.status.busy": "2023-10-05T13:26:40.446517Z",
     "iopub.status.idle": "2023-10-05T13:26:40.487358Z",
     "shell.execute_reply": "2023-10-05T13:26:40.486162Z",
     "shell.execute_reply.started": "2023-10-05T13:26:40.447042Z"
    }
   },
   "outputs": [
    {
     "data": {
      "text/html": [
       "<div>\n",
       "<style scoped>\n",
       "    .dataframe tbody tr th:only-of-type {\n",
       "        vertical-align: middle;\n",
       "    }\n",
       "\n",
       "    .dataframe tbody tr th {\n",
       "        vertical-align: top;\n",
       "    }\n",
       "\n",
       "    .dataframe thead th {\n",
       "        text-align: right;\n",
       "    }\n",
       "</style>\n",
       "<table border=\"1\" class=\"dataframe\">\n",
       "  <thead>\n",
       "    <tr style=\"text-align: right;\">\n",
       "      <th></th>\n",
       "      <th>age</th>\n",
       "      <th>sex</th>\n",
       "      <th>bmi</th>\n",
       "      <th>children</th>\n",
       "      <th>smoker</th>\n",
       "      <th>region</th>\n",
       "      <th>charges</th>\n",
       "      <th>is_male</th>\n",
       "      <th>is_smoker</th>\n",
       "      <th>is_southwest</th>\n",
       "      <th>is_northeast</th>\n",
       "      <th>is_northwest</th>\n",
       "    </tr>\n",
       "  </thead>\n",
       "  <tbody>\n",
       "    <tr>\n",
       "      <th>count</th>\n",
       "      <td>1338.000000</td>\n",
       "      <td>1338</td>\n",
       "      <td>1338.000000</td>\n",
       "      <td>1338.000000</td>\n",
       "      <td>1338</td>\n",
       "      <td>1338</td>\n",
       "      <td>1338.000000</td>\n",
       "      <td>1338.000000</td>\n",
       "      <td>1338.000000</td>\n",
       "      <td>1338.000000</td>\n",
       "      <td>1338.000000</td>\n",
       "      <td>1338.000000</td>\n",
       "    </tr>\n",
       "    <tr>\n",
       "      <th>unique</th>\n",
       "      <td>NaN</td>\n",
       "      <td>2</td>\n",
       "      <td>NaN</td>\n",
       "      <td>NaN</td>\n",
       "      <td>2</td>\n",
       "      <td>4</td>\n",
       "      <td>NaN</td>\n",
       "      <td>NaN</td>\n",
       "      <td>NaN</td>\n",
       "      <td>NaN</td>\n",
       "      <td>NaN</td>\n",
       "      <td>NaN</td>\n",
       "    </tr>\n",
       "    <tr>\n",
       "      <th>top</th>\n",
       "      <td>NaN</td>\n",
       "      <td>male</td>\n",
       "      <td>NaN</td>\n",
       "      <td>NaN</td>\n",
       "      <td>no</td>\n",
       "      <td>southeast</td>\n",
       "      <td>NaN</td>\n",
       "      <td>NaN</td>\n",
       "      <td>NaN</td>\n",
       "      <td>NaN</td>\n",
       "      <td>NaN</td>\n",
       "      <td>NaN</td>\n",
       "    </tr>\n",
       "    <tr>\n",
       "      <th>freq</th>\n",
       "      <td>NaN</td>\n",
       "      <td>676</td>\n",
       "      <td>NaN</td>\n",
       "      <td>NaN</td>\n",
       "      <td>1064</td>\n",
       "      <td>364</td>\n",
       "      <td>NaN</td>\n",
       "      <td>NaN</td>\n",
       "      <td>NaN</td>\n",
       "      <td>NaN</td>\n",
       "      <td>NaN</td>\n",
       "      <td>NaN</td>\n",
       "    </tr>\n",
       "    <tr>\n",
       "      <th>mean</th>\n",
       "      <td>39.207025</td>\n",
       "      <td>NaN</td>\n",
       "      <td>30.663397</td>\n",
       "      <td>1.094918</td>\n",
       "      <td>NaN</td>\n",
       "      <td>NaN</td>\n",
       "      <td>13270.422265</td>\n",
       "      <td>0.505232</td>\n",
       "      <td>0.204783</td>\n",
       "      <td>0.242900</td>\n",
       "      <td>0.242152</td>\n",
       "      <td>0.242900</td>\n",
       "    </tr>\n",
       "    <tr>\n",
       "      <th>std</th>\n",
       "      <td>14.049960</td>\n",
       "      <td>NaN</td>\n",
       "      <td>6.098187</td>\n",
       "      <td>1.205493</td>\n",
       "      <td>NaN</td>\n",
       "      <td>NaN</td>\n",
       "      <td>12110.011237</td>\n",
       "      <td>0.500160</td>\n",
       "      <td>0.403694</td>\n",
       "      <td>0.428995</td>\n",
       "      <td>0.428546</td>\n",
       "      <td>0.428995</td>\n",
       "    </tr>\n",
       "    <tr>\n",
       "      <th>min</th>\n",
       "      <td>18.000000</td>\n",
       "      <td>NaN</td>\n",
       "      <td>15.960000</td>\n",
       "      <td>0.000000</td>\n",
       "      <td>NaN</td>\n",
       "      <td>NaN</td>\n",
       "      <td>1121.873900</td>\n",
       "      <td>0.000000</td>\n",
       "      <td>0.000000</td>\n",
       "      <td>0.000000</td>\n",
       "      <td>0.000000</td>\n",
       "      <td>0.000000</td>\n",
       "    </tr>\n",
       "    <tr>\n",
       "      <th>25%</th>\n",
       "      <td>27.000000</td>\n",
       "      <td>NaN</td>\n",
       "      <td>26.296250</td>\n",
       "      <td>0.000000</td>\n",
       "      <td>NaN</td>\n",
       "      <td>NaN</td>\n",
       "      <td>4740.287150</td>\n",
       "      <td>0.000000</td>\n",
       "      <td>0.000000</td>\n",
       "      <td>0.000000</td>\n",
       "      <td>0.000000</td>\n",
       "      <td>0.000000</td>\n",
       "    </tr>\n",
       "    <tr>\n",
       "      <th>50%</th>\n",
       "      <td>39.000000</td>\n",
       "      <td>NaN</td>\n",
       "      <td>30.400000</td>\n",
       "      <td>1.000000</td>\n",
       "      <td>NaN</td>\n",
       "      <td>NaN</td>\n",
       "      <td>9382.033000</td>\n",
       "      <td>1.000000</td>\n",
       "      <td>0.000000</td>\n",
       "      <td>0.000000</td>\n",
       "      <td>0.000000</td>\n",
       "      <td>0.000000</td>\n",
       "    </tr>\n",
       "    <tr>\n",
       "      <th>75%</th>\n",
       "      <td>51.000000</td>\n",
       "      <td>NaN</td>\n",
       "      <td>34.693750</td>\n",
       "      <td>2.000000</td>\n",
       "      <td>NaN</td>\n",
       "      <td>NaN</td>\n",
       "      <td>16639.912515</td>\n",
       "      <td>1.000000</td>\n",
       "      <td>0.000000</td>\n",
       "      <td>0.000000</td>\n",
       "      <td>0.000000</td>\n",
       "      <td>0.000000</td>\n",
       "    </tr>\n",
       "    <tr>\n",
       "      <th>max</th>\n",
       "      <td>64.000000</td>\n",
       "      <td>NaN</td>\n",
       "      <td>53.130000</td>\n",
       "      <td>5.000000</td>\n",
       "      <td>NaN</td>\n",
       "      <td>NaN</td>\n",
       "      <td>63770.428010</td>\n",
       "      <td>1.000000</td>\n",
       "      <td>1.000000</td>\n",
       "      <td>1.000000</td>\n",
       "      <td>1.000000</td>\n",
       "      <td>1.000000</td>\n",
       "    </tr>\n",
       "  </tbody>\n",
       "</table>\n",
       "</div>"
      ],
      "text/plain": [
       "                age   sex          bmi     children smoker     region  \\\n",
       "count   1338.000000  1338  1338.000000  1338.000000   1338       1338   \n",
       "unique          NaN     2          NaN          NaN      2          4   \n",
       "top             NaN  male          NaN          NaN     no  southeast   \n",
       "freq            NaN   676          NaN          NaN   1064        364   \n",
       "mean      39.207025   NaN    30.663397     1.094918    NaN        NaN   \n",
       "std       14.049960   NaN     6.098187     1.205493    NaN        NaN   \n",
       "min       18.000000   NaN    15.960000     0.000000    NaN        NaN   \n",
       "25%       27.000000   NaN    26.296250     0.000000    NaN        NaN   \n",
       "50%       39.000000   NaN    30.400000     1.000000    NaN        NaN   \n",
       "75%       51.000000   NaN    34.693750     2.000000    NaN        NaN   \n",
       "max       64.000000   NaN    53.130000     5.000000    NaN        NaN   \n",
       "\n",
       "             charges      is_male    is_smoker  is_southwest  is_northeast  \\\n",
       "count    1338.000000  1338.000000  1338.000000   1338.000000   1338.000000   \n",
       "unique           NaN          NaN          NaN           NaN           NaN   \n",
       "top              NaN          NaN          NaN           NaN           NaN   \n",
       "freq             NaN          NaN          NaN           NaN           NaN   \n",
       "mean    13270.422265     0.505232     0.204783      0.242900      0.242152   \n",
       "std     12110.011237     0.500160     0.403694      0.428995      0.428546   \n",
       "min      1121.873900     0.000000     0.000000      0.000000      0.000000   \n",
       "25%      4740.287150     0.000000     0.000000      0.000000      0.000000   \n",
       "50%      9382.033000     1.000000     0.000000      0.000000      0.000000   \n",
       "75%     16639.912515     1.000000     0.000000      0.000000      0.000000   \n",
       "max     63770.428010     1.000000     1.000000      1.000000      1.000000   \n",
       "\n",
       "        is_northwest  \n",
       "count    1338.000000  \n",
       "unique           NaN  \n",
       "top              NaN  \n",
       "freq             NaN  \n",
       "mean        0.242900  \n",
       "std         0.428995  \n",
       "min         0.000000  \n",
       "25%         0.000000  \n",
       "50%         0.000000  \n",
       "75%         0.000000  \n",
       "max         1.000000  "
      ]
     },
     "execution_count": 9,
     "metadata": {},
     "output_type": "execute_result"
    }
   ],
   "source": [
    "#Descriptive statistics of the variables\n",
    "Input_data.describe(include='all')"
   ]
  },
  {
   "cell_type": "markdown",
   "metadata": {},
   "source": [
    "We have 3 categorical variables in our dataset: Sex, Smoker, and Region."
   ]
  },
  {
   "cell_type": "code",
   "execution_count": 10,
   "metadata": {
    "execution": {
     "iopub.execute_input": "2023-10-05T13:28:39.976555Z",
     "iopub.status.busy": "2023-10-05T13:28:39.975854Z",
     "iopub.status.idle": "2023-10-05T13:28:39.989548Z",
     "shell.execute_reply": "2023-10-05T13:28:39.988583Z",
     "shell.execute_reply.started": "2023-10-05T13:28:39.976511Z"
    }
   },
   "outputs": [
    {
     "data": {
      "text/plain": [
       "age             0\n",
       "sex             0\n",
       "bmi             0\n",
       "children        0\n",
       "smoker          0\n",
       "region          0\n",
       "charges         0\n",
       "is_male         0\n",
       "is_smoker       0\n",
       "is_southwest    0\n",
       "is_northeast    0\n",
       "is_northwest    0\n",
       "dtype: int64"
      ]
     },
     "execution_count": 10,
     "metadata": {},
     "output_type": "execute_result"
    }
   ],
   "source": [
    "#Checking for missing values\n",
    "df1=Input_data.isnull().sum().sort_values(ascending=False)\n",
    "df1"
   ]
  },
  {
   "cell_type": "markdown",
   "metadata": {},
   "source": [
    "There is no missing value in our dataset"
   ]
  },
  {
   "cell_type": "markdown",
   "metadata": {},
   "source": [
    "# Data Exploration\n",
    "Doing Univariant analysis of independent variables"
   ]
  },
  {
   "cell_type": "code",
   "execution_count": 11,
   "metadata": {
    "execution": {
     "iopub.execute_input": "2023-10-05T13:34:33.288114Z",
     "iopub.status.busy": "2023-10-05T13:34:33.287619Z",
     "iopub.status.idle": "2023-10-05T13:34:33.828571Z",
     "shell.execute_reply": "2023-10-05T13:34:33.827534Z",
     "shell.execute_reply.started": "2023-10-05T13:34:33.288079Z"
    }
   },
   "outputs": [
    {
     "data": {
      "image/png": "[encoded data removed]",
      "text/plain": [
       "<Figure size 360x360 with 1 Axes>"
      ]
     },
     "metadata": {},
     "output_type": "display_data"
    }
   ],
   "source": [
    "#Age variable\n",
    "sns.displot(Input_data['age'])\n",
    "plt.title('Distribution of Age')\n",
    "plt.show()"
   ]
  },
  {
   "cell_type": "markdown",
   "metadata": {},
   "source": [
    "Highest frequency is around age group of 20 and from 25 to 70 distribution is almost constant with a dip at age 40"
   ]
  },
  {
   "cell_type": "code",
   "execution_count": 12,
   "metadata": {
    "execution": {
     "iopub.execute_input": "2023-10-05T13:37:18.682039Z",
     "iopub.status.busy": "2023-10-05T13:37:18.681488Z",
     "iopub.status.idle": "2023-10-05T13:37:18.956401Z",
     "shell.execute_reply": "2023-10-05T13:37:18.955224Z",
     "shell.execute_reply.started": "2023-10-05T13:37:18.681994Z"
    }
   },
   "outputs": [
    {
     "data": {
      "text/plain": [
       "<function matplotlib.pyplot.show(close=None, block=None)>"
      ]
     },
     "execution_count": 12,
     "metadata": {},
     "output_type": "execute_result"
    },
    {
     "data": {
      "image/png": "[encoded data removed]",
      "text/plain": [
       "<Figure size 432x288 with 1 Axes>"
      ]
     },
     "metadata": {},
     "output_type": "display_data"
    }
   ],
   "source": [
    "#Sex Variable\n",
    "sns.countplot(x = 'sex', data = Input_data)\n",
    "plt.title('Distribution of sex')\n",
    "plt.show"
   ]
  },
  {
   "cell_type": "markdown",
   "metadata": {},
   "source": [
    "Insight- Male and female count is almost equal."
   ]
  },
  {
   "cell_type": "code",
   "execution_count": 13,
   "metadata": {
    "execution": {
     "iopub.execute_input": "2023-10-05T13:38:01.560952Z",
     "iopub.status.busy": "2023-10-05T13:38:01.560492Z",
     "iopub.status.idle": "2023-10-05T13:38:02.132839Z",
     "shell.execute_reply": "2023-10-05T13:38:02.131593Z",
     "shell.execute_reply.started": "2023-10-05T13:38:01.560919Z"
    }
   },
   "outputs": [
    {
     "data": {
      "image/png": "[encoded data removed]",
      "text/plain": [
       "<Figure size 360x360 with 1 Axes>"
      ]
     },
     "metadata": {},
     "output_type": "display_data"
    }
   ],
   "source": [
    "# distribution of bmi variable\n",
    "\n",
    "sns.displot(Input_data['bmi'])\n",
    "plt.title('Distribution of BMI')\n",
    "plt.show()"
   ]
  },
  {
   "cell_type": "markdown",
   "metadata": {},
   "source": [
    "BMI is following a normal distribution with some outliers."
   ]
  },
  {
   "cell_type": "code",
   "execution_count": 14,
   "metadata": {
    "execution": {
     "iopub.execute_input": "2023-10-05T13:39:31.481562Z",
     "iopub.status.busy": "2023-10-05T13:39:31.480304Z",
     "iopub.status.idle": "2023-10-05T13:39:31.767794Z",
     "shell.execute_reply": "2023-10-05T13:39:31.766453Z",
     "shell.execute_reply.started": "2023-10-05T13:39:31.481515Z"
    }
   },
   "outputs": [
    {
     "data": {
      "image/png": "[encoded data removed]",
      "text/plain": [
       "<Figure size 432x288 with 1 Axes>"
      ]
     },
     "metadata": {},
     "output_type": "display_data"
    }
   ],
   "source": [
    "# plot of children variable\n",
    "\n",
    "sns.countplot(x = 'children', data = Input_data)\n",
    "plt.title('Children')\n",
    "plt.show()"
   ]
  },
  {
   "cell_type": "markdown",
   "metadata": {},
   "source": [
    "In our dataset majority of people are with no children. Then there are people having 1-3 children and there are very less people having 4-5 children."
   ]
  },
  {
   "cell_type": "code",
   "execution_count": 15,
   "metadata": {
    "execution": {
     "iopub.execute_input": "2023-10-05T13:40:55.179112Z",
     "iopub.status.busy": "2023-10-05T13:40:55.178635Z",
     "iopub.status.idle": "2023-10-05T13:40:55.400213Z",
     "shell.execute_reply": "2023-10-05T13:40:55.399045Z",
     "shell.execute_reply.started": "2023-10-05T13:40:55.179056Z"
    }
   },
   "outputs": [
    {
     "data": {
      "image/png": "[encoded data removed]",
      "text/plain": [
       "<Figure size 432x288 with 1 Axes>"
      ]
     },
     "metadata": {},
     "output_type": "display_data"
    }
   ],
   "source": [
    "# plot of smoker variable\n",
    "\n",
    "sns.countplot(x = 'smoker', data = Input_data)\n",
    "plt.title('Smoker')\n",
    "plt.show()"
   ]
  },
  {
   "cell_type": "markdown",
   "metadata": {},
   "source": [
    "In our dataset clearly majority of datapoint are non-smoker"
   ]
  },
  {
   "cell_type": "code",
   "execution_count": 16,
   "metadata": {
    "execution": {
     "iopub.execute_input": "2023-10-05T13:41:34.063358Z",
     "iopub.status.busy": "2023-10-05T13:41:34.062887Z",
     "iopub.status.idle": "2023-10-05T13:41:34.338691Z",
     "shell.execute_reply": "2023-10-05T13:41:34.337433Z",
     "shell.execute_reply.started": "2023-10-05T13:41:34.063323Z"
    }
   },
   "outputs": [
    {
     "data": {
      "image/png": "[encoded data removed]",
      "text/plain": [
       "<Figure size 432x288 with 1 Axes>"
      ]
     },
     "metadata": {},
     "output_type": "display_data"
    }
   ],
   "source": [
    "# plot of region variable\n",
    "\n",
    "sns.countplot(x = 'region', data = Input_data)\n",
    "plt.title('Region')\n",
    "plt.show()"
   ]
  },
  {
   "cell_type": "markdown",
   "metadata": {},
   "source": [
    "People are equally distributed in all the regions with southeast having slightly more number of people than other regions."
   ]
  },
  {
   "cell_type": "code",
   "execution_count": 17,
   "metadata": {
    "execution": {
     "iopub.execute_input": "2023-10-05T13:42:10.050440Z",
     "iopub.status.busy": "2023-10-05T13:42:10.049957Z",
     "iopub.status.idle": "2023-10-05T13:42:10.572379Z",
     "shell.execute_reply": "2023-10-05T13:42:10.571188Z",
     "shell.execute_reply.started": "2023-10-05T13:42:10.050405Z"
    }
   },
   "outputs": [
    {
     "data": {
      "image/png": "[encoded data removed]",
      "text/plain": [
       "<Figure size 360x360 with 1 Axes>"
      ]
     },
     "metadata": {},
     "output_type": "display_data"
    }
   ],
   "source": [
    "# distribution of charges variable\n",
    "\n",
    "sns.displot(Input_data['charges'])\n",
    "plt.title('Distribution of Charges')\n",
    "plt.show()"
   ]
  },
  {
   "cell_type": "markdown",
   "metadata": {},
   "source": [
    "With respect to prices our data is highly skewed.Mostly, the charges are around 1000-10,000"
   ]
  },
  {
   "cell_type": "markdown",
   "metadata": {},
   "source": [
    "We will be procedding with all the features in our dataset. So next step will be encoding the categorical variable.\n",
    "\n",
    "# Encoding the categorical features"
   ]
  },
  {
   "cell_type": "code",
   "execution_count": 18,
   "metadata": {
    "execution": {
     "iopub.execute_input": "2023-10-05T13:45:15.379419Z",
     "iopub.status.busy": "2023-10-05T13:45:15.378820Z",
     "iopub.status.idle": "2023-10-05T13:45:15.399369Z",
     "shell.execute_reply": "2023-10-05T13:45:15.398037Z",
     "shell.execute_reply.started": "2023-10-05T13:45:15.379377Z"
    }
   },
   "outputs": [
    {
     "data": {
      "text/html": [
       "<div>\n",
       "<style scoped>\n",
       "    .dataframe tbody tr th:only-of-type {\n",
       "        vertical-align: middle;\n",
       "    }\n",
       "\n",
       "    .dataframe tbody tr th {\n",
       "        vertical-align: top;\n",
       "    }\n",
       "\n",
       "    .dataframe thead th {\n",
       "        text-align: right;\n",
       "    }\n",
       "</style>\n",
       "<table border=\"1\" class=\"dataframe\">\n",
       "  <thead>\n",
       "    <tr style=\"text-align: right;\">\n",
       "      <th></th>\n",
       "      <th>age</th>\n",
       "      <th>sex</th>\n",
       "      <th>bmi</th>\n",
       "      <th>children</th>\n",
       "      <th>smoker</th>\n",
       "      <th>region</th>\n",
       "      <th>charges</th>\n",
       "      <th>is_male</th>\n",
       "      <th>is_smoker</th>\n",
       "      <th>is_southwest</th>\n",
       "      <th>is_northeast</th>\n",
       "      <th>is_northwest</th>\n",
       "    </tr>\n",
       "  </thead>\n",
       "  <tbody>\n",
       "    <tr>\n",
       "      <th>0</th>\n",
       "      <td>19</td>\n",
       "      <td>female</td>\n",
       "      <td>27.900</td>\n",
       "      <td>0</td>\n",
       "      <td>1</td>\n",
       "      <td>southwest</td>\n",
       "      <td>16884.92400</td>\n",
       "      <td>0</td>\n",
       "      <td>1</td>\n",
       "      <td>1</td>\n",
       "      <td>0</td>\n",
       "      <td>0</td>\n",
       "    </tr>\n",
       "    <tr>\n",
       "      <th>1</th>\n",
       "      <td>18</td>\n",
       "      <td>male</td>\n",
       "      <td>33.770</td>\n",
       "      <td>1</td>\n",
       "      <td>0</td>\n",
       "      <td>southeast</td>\n",
       "      <td>1725.55230</td>\n",
       "      <td>1</td>\n",
       "      <td>0</td>\n",
       "      <td>0</td>\n",
       "      <td>0</td>\n",
       "      <td>0</td>\n",
       "    </tr>\n",
       "    <tr>\n",
       "      <th>2</th>\n",
       "      <td>28</td>\n",
       "      <td>male</td>\n",
       "      <td>33.000</td>\n",
       "      <td>3</td>\n",
       "      <td>0</td>\n",
       "      <td>southeast</td>\n",
       "      <td>4449.46200</td>\n",
       "      <td>1</td>\n",
       "      <td>0</td>\n",
       "      <td>0</td>\n",
       "      <td>0</td>\n",
       "      <td>0</td>\n",
       "    </tr>\n",
       "    <tr>\n",
       "      <th>3</th>\n",
       "      <td>33</td>\n",
       "      <td>male</td>\n",
       "      <td>22.705</td>\n",
       "      <td>0</td>\n",
       "      <td>0</td>\n",
       "      <td>northwest</td>\n",
       "      <td>21984.47061</td>\n",
       "      <td>1</td>\n",
       "      <td>0</td>\n",
       "      <td>0</td>\n",
       "      <td>0</td>\n",
       "      <td>1</td>\n",
       "    </tr>\n",
       "    <tr>\n",
       "      <th>4</th>\n",
       "      <td>32</td>\n",
       "      <td>male</td>\n",
       "      <td>28.880</td>\n",
       "      <td>0</td>\n",
       "      <td>0</td>\n",
       "      <td>northwest</td>\n",
       "      <td>3866.85520</td>\n",
       "      <td>1</td>\n",
       "      <td>0</td>\n",
       "      <td>0</td>\n",
       "      <td>0</td>\n",
       "      <td>1</td>\n",
       "    </tr>\n",
       "  </tbody>\n",
       "</table>\n",
       "</div>"
      ],
      "text/plain": [
       "   age     sex     bmi  children  smoker     region      charges  is_male  \\\n",
       "0   19  female  27.900         0       1  southwest  16884.92400        0   \n",
       "1   18    male  33.770         1       0  southeast   1725.55230        1   \n",
       "2   28    male  33.000         3       0  southeast   4449.46200        1   \n",
       "3   33    male  22.705         0       0  northwest  21984.47061        1   \n",
       "4   32    male  28.880         0       0  northwest   3866.85520        1   \n",
       "\n",
       "   is_smoker  is_southwest  is_northeast  is_northwest  \n",
       "0          1             1             0             0  \n",
       "1          0             0             0             0  \n",
       "2          0             0             0             0  \n",
       "3          0             0             0             1  \n",
       "4          0             0             0             1  "
      ]
     },
     "execution_count": 18,
     "metadata": {},
     "output_type": "execute_result"
    }
   ],
   "source": [
    "# Categorical features: Sex, Smoker, and Region.\n",
    "\n",
    "data = Input_data.copy()\n",
    "\n",
    "# Assigning values for 'smoker' feature\n",
    "\n",
    "data['smoker'] = data['smoker'].map({'yes':1, 'no':0})\n",
    "\n",
    "data.head()"
   ]
  },
  {
   "cell_type": "code",
   "execution_count": 19,
   "metadata": {
    "execution": {
     "iopub.execute_input": "2023-10-05T14:23:47.089085Z",
     "iopub.status.busy": "2023-10-05T14:23:47.088600Z",
     "iopub.status.idle": "2023-10-05T14:23:47.108046Z",
     "shell.execute_reply": "2023-10-05T14:23:47.106327Z",
     "shell.execute_reply.started": "2023-10-05T14:23:47.089050Z"
    }
   },
   "outputs": [
    {
     "name": "stdout",
     "output_type": "stream",
     "text": [
      "      age     bmi  children  smoker      charges  is_male  is_smoker  \\\n",
      "0      19  27.900         0       1  16884.92400        0          1   \n",
      "1      18  33.770         1       0   1725.55230        1          0   \n",
      "2      28  33.000         3       0   4449.46200        1          0   \n",
      "3      33  22.705         0       0  21984.47061        1          0   \n",
      "4      32  28.880         0       0   3866.85520        1          0   \n",
      "...   ...     ...       ...     ...          ...      ...        ...   \n",
      "1333   50  30.970         3       0  10600.54830        1          0   \n",
      "1334   18  31.920         0       0   2205.98080        0          0   \n",
      "1335   18  36.850         0       0   1629.83350        0          0   \n",
      "1336   21  25.800         0       0   2007.94500        0          0   \n",
      "1337   61  29.070         0       1  29141.36030        0          1   \n",
      "\n",
      "      is_southwest  is_northeast  is_northwest  sex_female  sex_male  \\\n",
      "0                1             0             0           1         0   \n",
      "1                0             0             0           0         1   \n",
      "2                0             0             0           0         1   \n",
      "3                0             0             1           0         1   \n",
      "4                0             0             1           0         1   \n",
      "...            ...           ...           ...         ...       ...   \n",
      "1333             0             0             1           0         1   \n",
      "1334             0             1             0           1         0   \n",
      "1335             0             0             0           1         0   \n",
      "1336             1             0             0           1         0   \n",
      "1337             0             0             1           1         0   \n",
      "\n",
      "      region_northeast  region_northwest  region_southeast  region_southwest  \n",
      "0                    0                 0                 0                 1  \n",
      "1                    0                 0                 1                 0  \n",
      "2                    0                 0                 1                 0  \n",
      "3                    0                 1                 0                 0  \n",
      "4                    0                 1                 0                 0  \n",
      "...                ...               ...               ...               ...  \n",
      "1333                 0                 1                 0                 0  \n",
      "1334                 1                 0                 0                 0  \n",
      "1335                 0                 0                 1                 0  \n",
      "1336                 0                 0                 0                 1  \n",
      "1337                 0                 1                 0                 0  \n",
      "\n",
      "[1338 rows x 16 columns]\n"
     ]
    }
   ],
   "source": [
    "#For 'sex' and 'region'-We will create dummy variable\n",
    "df_encoded = pd.get_dummies(data, columns=['sex', 'region'],dtype=int)\n",
    "\n",
    "print(df_encoded)\n",
    "\n",
    "\n"
   ]
  },
  {
   "cell_type": "code",
   "execution_count": 20,
   "metadata": {
    "execution": {
     "iopub.execute_input": "2023-10-05T14:23:52.110784Z",
     "iopub.status.busy": "2023-10-05T14:23:52.110201Z",
     "iopub.status.idle": "2023-10-05T14:23:52.152254Z",
     "shell.execute_reply": "2023-10-05T14:23:52.151060Z",
     "shell.execute_reply.started": "2023-10-05T14:23:52.110748Z"
    }
   },
   "outputs": [
    {
     "data": {
      "text/html": [
       "<div>\n",
       "<style scoped>\n",
       "    .dataframe tbody tr th:only-of-type {\n",
       "        vertical-align: middle;\n",
       "    }\n",
       "\n",
       "    .dataframe tbody tr th {\n",
       "        vertical-align: top;\n",
       "    }\n",
       "\n",
       "    .dataframe thead th {\n",
       "        text-align: right;\n",
       "    }\n",
       "</style>\n",
       "<table border=\"1\" class=\"dataframe\">\n",
       "  <thead>\n",
       "    <tr style=\"text-align: right;\">\n",
       "      <th></th>\n",
       "      <th>age</th>\n",
       "      <th>bmi</th>\n",
       "      <th>children</th>\n",
       "      <th>smoker</th>\n",
       "      <th>charges</th>\n",
       "      <th>is_male</th>\n",
       "      <th>is_smoker</th>\n",
       "      <th>is_southwest</th>\n",
       "      <th>is_northeast</th>\n",
       "      <th>is_northwest</th>\n",
       "      <th>sex_female</th>\n",
       "      <th>sex_male</th>\n",
       "      <th>region_northeast</th>\n",
       "      <th>region_northwest</th>\n",
       "      <th>region_southeast</th>\n",
       "      <th>region_southwest</th>\n",
       "    </tr>\n",
       "  </thead>\n",
       "  <tbody>\n",
       "    <tr>\n",
       "      <th>count</th>\n",
       "      <td>1338.000000</td>\n",
       "      <td>1338.000000</td>\n",
       "      <td>1338.000000</td>\n",
       "      <td>1338.000000</td>\n",
       "      <td>1338.000000</td>\n",
       "      <td>1338.000000</td>\n",
       "      <td>1338.000000</td>\n",
       "      <td>1338.000000</td>\n",
       "      <td>1338.000000</td>\n",
       "      <td>1338.000000</td>\n",
       "      <td>1338.000000</td>\n",
       "      <td>1338.000000</td>\n",
       "      <td>1338.000000</td>\n",
       "      <td>1338.000000</td>\n",
       "      <td>1338.000000</td>\n",
       "      <td>1338.000000</td>\n",
       "    </tr>\n",
       "    <tr>\n",
       "      <th>mean</th>\n",
       "      <td>39.207025</td>\n",
       "      <td>30.663397</td>\n",
       "      <td>1.094918</td>\n",
       "      <td>0.204783</td>\n",
       "      <td>13270.422265</td>\n",
       "      <td>0.505232</td>\n",
       "      <td>0.204783</td>\n",
       "      <td>0.242900</td>\n",
       "      <td>0.242152</td>\n",
       "      <td>0.242900</td>\n",
       "      <td>0.494768</td>\n",
       "      <td>0.505232</td>\n",
       "      <td>0.242152</td>\n",
       "      <td>0.242900</td>\n",
       "      <td>0.272048</td>\n",
       "      <td>0.242900</td>\n",
       "    </tr>\n",
       "    <tr>\n",
       "      <th>std</th>\n",
       "      <td>14.049960</td>\n",
       "      <td>6.098187</td>\n",
       "      <td>1.205493</td>\n",
       "      <td>0.403694</td>\n",
       "      <td>12110.011237</td>\n",
       "      <td>0.500160</td>\n",
       "      <td>0.403694</td>\n",
       "      <td>0.428995</td>\n",
       "      <td>0.428546</td>\n",
       "      <td>0.428995</td>\n",
       "      <td>0.500160</td>\n",
       "      <td>0.500160</td>\n",
       "      <td>0.428546</td>\n",
       "      <td>0.428995</td>\n",
       "      <td>0.445181</td>\n",
       "      <td>0.428995</td>\n",
       "    </tr>\n",
       "    <tr>\n",
       "      <th>min</th>\n",
       "      <td>18.000000</td>\n",
       "      <td>15.960000</td>\n",
       "      <td>0.000000</td>\n",
       "      <td>0.000000</td>\n",
       "      <td>1121.873900</td>\n",
       "      <td>0.000000</td>\n",
       "      <td>0.000000</td>\n",
       "      <td>0.000000</td>\n",
       "      <td>0.000000</td>\n",
       "      <td>0.000000</td>\n",
       "      <td>0.000000</td>\n",
       "      <td>0.000000</td>\n",
       "      <td>0.000000</td>\n",
       "      <td>0.000000</td>\n",
       "      <td>0.000000</td>\n",
       "      <td>0.000000</td>\n",
       "    </tr>\n",
       "    <tr>\n",
       "      <th>25%</th>\n",
       "      <td>27.000000</td>\n",
       "      <td>26.296250</td>\n",
       "      <td>0.000000</td>\n",
       "      <td>0.000000</td>\n",
       "      <td>4740.287150</td>\n",
       "      <td>0.000000</td>\n",
       "      <td>0.000000</td>\n",
       "      <td>0.000000</td>\n",
       "      <td>0.000000</td>\n",
       "      <td>0.000000</td>\n",
       "      <td>0.000000</td>\n",
       "      <td>0.000000</td>\n",
       "      <td>0.000000</td>\n",
       "      <td>0.000000</td>\n",
       "      <td>0.000000</td>\n",
       "      <td>0.000000</td>\n",
       "    </tr>\n",
       "    <tr>\n",
       "      <th>50%</th>\n",
       "      <td>39.000000</td>\n",
       "      <td>30.400000</td>\n",
       "      <td>1.000000</td>\n",
       "      <td>0.000000</td>\n",
       "      <td>9382.033000</td>\n",
       "      <td>1.000000</td>\n",
       "      <td>0.000000</td>\n",
       "      <td>0.000000</td>\n",
       "      <td>0.000000</td>\n",
       "      <td>0.000000</td>\n",
       "      <td>0.000000</td>\n",
       "      <td>1.000000</td>\n",
       "      <td>0.000000</td>\n",
       "      <td>0.000000</td>\n",
       "      <td>0.000000</td>\n",
       "      <td>0.000000</td>\n",
       "    </tr>\n",
       "    <tr>\n",
       "      <th>75%</th>\n",
       "      <td>51.000000</td>\n",
       "      <td>34.693750</td>\n",
       "      <td>2.000000</td>\n",
       "      <td>0.000000</td>\n",
       "      <td>16639.912515</td>\n",
       "      <td>1.000000</td>\n",
       "      <td>0.000000</td>\n",
       "      <td>0.000000</td>\n",
       "      <td>0.000000</td>\n",
       "      <td>0.000000</td>\n",
       "      <td>1.000000</td>\n",
       "      <td>1.000000</td>\n",
       "      <td>0.000000</td>\n",
       "      <td>0.000000</td>\n",
       "      <td>1.000000</td>\n",
       "      <td>0.000000</td>\n",
       "    </tr>\n",
       "    <tr>\n",
       "      <th>max</th>\n",
       "      <td>64.000000</td>\n",
       "      <td>53.130000</td>\n",
       "      <td>5.000000</td>\n",
       "      <td>1.000000</td>\n",
       "      <td>63770.428010</td>\n",
       "      <td>1.000000</td>\n",
       "      <td>1.000000</td>\n",
       "      <td>1.000000</td>\n",
       "      <td>1.000000</td>\n",
       "      <td>1.000000</td>\n",
       "      <td>1.000000</td>\n",
       "      <td>1.000000</td>\n",
       "      <td>1.000000</td>\n",
       "      <td>1.000000</td>\n",
       "      <td>1.000000</td>\n",
       "      <td>1.000000</td>\n",
       "    </tr>\n",
       "  </tbody>\n",
       "</table>\n",
       "</div>"
      ],
      "text/plain": [
       "               age          bmi     children       smoker       charges  \\\n",
       "count  1338.000000  1338.000000  1338.000000  1338.000000   1338.000000   \n",
       "mean     39.207025    30.663397     1.094918     0.204783  13270.422265   \n",
       "std      14.049960     6.098187     1.205493     0.403694  12110.011237   \n",
       "min      18.000000    15.960000     0.000000     0.000000   1121.873900   \n",
       "25%      27.000000    26.296250     0.000000     0.000000   4740.287150   \n",
       "50%      39.000000    30.400000     1.000000     0.000000   9382.033000   \n",
       "75%      51.000000    34.693750     2.000000     0.000000  16639.912515   \n",
       "max      64.000000    53.130000     5.000000     1.000000  63770.428010   \n",
       "\n",
       "           is_male    is_smoker  is_southwest  is_northeast  is_northwest  \\\n",
       "count  1338.000000  1338.000000   1338.000000   1338.000000   1338.000000   \n",
       "mean      0.505232     0.204783      0.242900      0.242152      0.242900   \n",
       "std       0.500160     0.403694      0.428995      0.428546      0.428995   \n",
       "min       0.000000     0.000000      0.000000      0.000000      0.000000   \n",
       "25%       0.000000     0.000000      0.000000      0.000000      0.000000   \n",
       "50%       1.000000     0.000000      0.000000      0.000000      0.000000   \n",
       "75%       1.000000     0.000000      0.000000      0.000000      0.000000   \n",
       "max       1.000000     1.000000      1.000000      1.000000      1.000000   \n",
       "\n",
       "        sex_female     sex_male  region_northeast  region_northwest  \\\n",
       "count  1338.000000  1338.000000       1338.000000       1338.000000   \n",
       "mean      0.494768     0.505232          0.242152          0.242900   \n",
       "std       0.500160     0.500160          0.428546          0.428995   \n",
       "min       0.000000     0.000000          0.000000          0.000000   \n",
       "25%       0.000000     0.000000          0.000000          0.000000   \n",
       "50%       0.000000     1.000000          0.000000          0.000000   \n",
       "75%       1.000000     1.000000          0.000000          0.000000   \n",
       "max       1.000000     1.000000          1.000000          1.000000   \n",
       "\n",
       "       region_southeast  region_southwest  \n",
       "count       1338.000000       1338.000000  \n",
       "mean           0.272048          0.242900  \n",
       "std            0.445181          0.428995  \n",
       "min            0.000000          0.000000  \n",
       "25%            0.000000          0.000000  \n",
       "50%            0.000000          0.000000  \n",
       "75%            1.000000          0.000000  \n",
       "max            1.000000          1.000000  "
      ]
     },
     "execution_count": 20,
     "metadata": {},
     "output_type": "execute_result"
    }
   ],
   "source": [
    "#Descriptive statistics of the variables\n",
    "df_encoded.describe(include='all')"
   ]
  },
  {
   "cell_type": "markdown",
   "metadata": {},
   "source": [
    "# Linear Regression"
   ]
  },
  {
   "cell_type": "code",
   "execution_count": 24,
   "metadata": {
    "execution": {
     "iopub.execute_input": "2023-10-05T14:25:54.830609Z",
     "iopub.status.busy": "2023-10-05T14:25:54.830177Z",
     "iopub.status.idle": "2023-10-05T14:25:54.907868Z",
     "shell.execute_reply": "2023-10-05T14:25:54.906521Z",
     "shell.execute_reply.started": "2023-10-05T14:25:54.830579Z"
    }
   },
   "outputs": [
    {
     "data": {
      "text/html": [
       "<table class=\"simpletable\">\n",
       "<caption>OLS Regression Results</caption>\n",
       "<tr>\n",
       "  <th>Dep. Variable:</th>         <td>charges</td>     <th>  R-squared:         </th> <td>   0.742</td> \n",
       "</tr>\n",
       "<tr>\n",
       "  <th>Model:</th>                   <td>OLS</td>       <th>  Adj. R-squared:    </th> <td>   0.740</td> \n",
       "</tr>\n",
       "<tr>\n",
       "  <th>Method:</th>             <td>Least Squares</td>  <th>  F-statistic:       </th> <td>   380.9</td> \n",
       "</tr>\n",
       "<tr>\n",
       "  <th>Date:</th>             <td>Sat, 07 Oct 2023</td> <th>  Prob (F-statistic):</th> <td>1.32e-305</td>\n",
       "</tr>\n",
       "<tr>\n",
       "  <th>Time:</th>                 <td>01:14:25</td>     <th>  Log-Likelihood:    </th> <td> -10845.</td> \n",
       "</tr>\n",
       "<tr>\n",
       "  <th>No. Observations:</th>      <td>  1070</td>      <th>  AIC:               </th> <td>2.171e+04</td>\n",
       "</tr>\n",
       "<tr>\n",
       "  <th>Df Residuals:</th>          <td>  1061</td>      <th>  BIC:               </th> <td>2.175e+04</td>\n",
       "</tr>\n",
       "<tr>\n",
       "  <th>Df Model:</th>              <td>     8</td>      <th>                     </th>     <td> </td>    \n",
       "</tr>\n",
       "<tr>\n",
       "  <th>Covariance Type:</th>      <td>nonrobust</td>    <th>                     </th>     <td> </td>    \n",
       "</tr>\n",
       "</table>\n",
       "<table class=\"simpletable\">\n",
       "<tr>\n",
       "          <td></td>            <th>coef</th>     <th>std err</th>      <th>t</th>      <th>P>|t|</th>  <th>[0.025</th>    <th>0.975]</th>  \n",
       "</tr>\n",
       "<tr>\n",
       "  <th>const</th>            <td>-6017.7374</td> <td>  538.378</td> <td>  -11.178</td> <td> 0.000</td> <td>-7074.144</td> <td>-4961.331</td>\n",
       "</tr>\n",
       "<tr>\n",
       "  <th>age</th>              <td>  256.9757</td> <td>   13.477</td> <td>   19.067</td> <td> 0.000</td> <td>  230.530</td> <td>  283.421</td>\n",
       "</tr>\n",
       "<tr>\n",
       "  <th>bmi</th>              <td>  337.0926</td> <td>   32.471</td> <td>   10.381</td> <td> 0.000</td> <td>  273.378</td> <td>  400.807</td>\n",
       "</tr>\n",
       "<tr>\n",
       "  <th>children</th>         <td>  425.2788</td> <td>  154.655</td> <td>    2.750</td> <td> 0.006</td> <td>  121.814</td> <td>  728.743</td>\n",
       "</tr>\n",
       "<tr>\n",
       "  <th>smoker</th>           <td> 1.183e+04</td> <td>  233.252</td> <td>   50.699</td> <td> 0.000</td> <td> 1.14e+04</td> <td> 1.23e+04</td>\n",
       "</tr>\n",
       "<tr>\n",
       "  <th>is_male</th>          <td>-2012.1097</td> <td>  215.220</td> <td>   -9.349</td> <td> 0.000</td> <td>-2434.415</td> <td>-1589.804</td>\n",
       "</tr>\n",
       "<tr>\n",
       "  <th>is_smoker</th>        <td> 1.183e+04</td> <td>  233.252</td> <td>   50.699</td> <td> 0.000</td> <td> 1.14e+04</td> <td> 1.23e+04</td>\n",
       "</tr>\n",
       "<tr>\n",
       "  <th>is_southwest</th>     <td>-1358.8266</td> <td>  202.008</td> <td>   -6.727</td> <td> 0.000</td> <td>-1755.207</td> <td> -962.446</td>\n",
       "</tr>\n",
       "<tr>\n",
       "  <th>is_northeast</th>     <td> -953.9270</td> <td>  190.184</td> <td>   -5.016</td> <td> 0.000</td> <td>-1327.106</td> <td> -580.748</td>\n",
       "</tr>\n",
       "<tr>\n",
       "  <th>is_northwest</th>     <td>-1139.2656</td> <td>  196.216</td> <td>   -5.806</td> <td> 0.000</td> <td>-1524.281</td> <td> -754.251</td>\n",
       "</tr>\n",
       "<tr>\n",
       "  <th>sex_female</th>       <td>-4005.6277</td> <td>  384.400</td> <td>  -10.420</td> <td> 0.000</td> <td>-4759.899</td> <td>-3251.356</td>\n",
       "</tr>\n",
       "<tr>\n",
       "  <th>sex_male</th>         <td>-2012.1097</td> <td>  215.220</td> <td>   -9.349</td> <td> 0.000</td> <td>-2434.415</td> <td>-1589.804</td>\n",
       "</tr>\n",
       "<tr>\n",
       "  <th>region_northeast</th> <td> -953.9270</td> <td>  190.184</td> <td>   -5.016</td> <td> 0.000</td> <td>-1327.106</td> <td> -580.748</td>\n",
       "</tr>\n",
       "<tr>\n",
       "  <th>region_northwest</th> <td>-1139.2656</td> <td>  196.216</td> <td>   -5.806</td> <td> 0.000</td> <td>-1524.281</td> <td> -754.251</td>\n",
       "</tr>\n",
       "<tr>\n",
       "  <th>region_southeast</th> <td>-2565.7182</td> <td>  381.425</td> <td>   -6.727</td> <td> 0.000</td> <td>-3314.152</td> <td>-1817.285</td>\n",
       "</tr>\n",
       "<tr>\n",
       "  <th>region_southwest</th> <td>-1358.8266</td> <td>  202.008</td> <td>   -6.727</td> <td> 0.000</td> <td>-1755.207</td> <td> -962.446</td>\n",
       "</tr>\n",
       "</table>\n",
       "<table class=\"simpletable\">\n",
       "<tr>\n",
       "  <th>Omnibus:</th>       <td>252.330</td> <th>  Durbin-Watson:     </th> <td>   2.085</td> \n",
       "</tr>\n",
       "<tr>\n",
       "  <th>Prob(Omnibus):</th> <td> 0.000</td>  <th>  Jarque-Bera (JB):  </th> <td> 613.798</td> \n",
       "</tr>\n",
       "<tr>\n",
       "  <th>Skew:</th>          <td> 1.253</td>  <th>  Prob(JB):          </th> <td>5.19e-134</td>\n",
       "</tr>\n",
       "<tr>\n",
       "  <th>Kurtosis:</th>      <td> 5.737</td>  <th>  Cond. No.          </th> <td>1.12e+18</td> \n",
       "</tr>\n",
       "</table><br/><br/>Notes:<br/>[1] Standard Errors assume that the covariance matrix of the errors is correctly specified.<br/>[2] The smallest eigenvalue is 2.26e-30. This might indicate that there are<br/>strong multicollinearity problems or that the design matrix is singular."
      ],
      "text/plain": [
       "<class 'statsmodels.iolib.summary.Summary'>\n",
       "\"\"\"\n",
       "                            OLS Regression Results                            \n",
       "==============================================================================\n",
       "Dep. Variable:                charges   R-squared:                       0.742\n",
       "Model:                            OLS   Adj. R-squared:                  0.740\n",
       "Method:                 Least Squares   F-statistic:                     380.9\n",
       "Date:                Sat, 07 Oct 2023   Prob (F-statistic):          1.32e-305\n",
       "Time:                        01:14:25   Log-Likelihood:                -10845.\n",
       "No. Observations:                1070   AIC:                         2.171e+04\n",
       "Df Residuals:                    1061   BIC:                         2.175e+04\n",
       "Df Model:                           8                                         \n",
       "Covariance Type:            nonrobust                                         \n",
       "====================================================================================\n",
       "                       coef    std err          t      P>|t|      [0.025      0.975]\n",
       "------------------------------------------------------------------------------------\n",
       "const            -6017.7374    538.378    -11.178      0.000   -7074.144   -4961.331\n",
       "age                256.9757     13.477     19.067      0.000     230.530     283.421\n",
       "bmi                337.0926     32.471     10.381      0.000     273.378     400.807\n",
       "children           425.2788    154.655      2.750      0.006     121.814     728.743\n",
       "smoker            1.183e+04    233.252     50.699      0.000    1.14e+04    1.23e+04\n",
       "is_male          -2012.1097    215.220     -9.349      0.000   -2434.415   -1589.804\n",
       "is_smoker         1.183e+04    233.252     50.699      0.000    1.14e+04    1.23e+04\n",
       "is_southwest     -1358.8266    202.008     -6.727      0.000   -1755.207    -962.446\n",
       "is_northeast      -953.9270    190.184     -5.016      0.000   -1327.106    -580.748\n",
       "is_northwest     -1139.2656    196.216     -5.806      0.000   -1524.281    -754.251\n",
       "sex_female       -4005.6277    384.400    -10.420      0.000   -4759.899   -3251.356\n",
       "sex_male         -2012.1097    215.220     -9.349      0.000   -2434.415   -1589.804\n",
       "region_northeast  -953.9270    190.184     -5.016      0.000   -1327.106    -580.748\n",
       "region_northwest -1139.2656    196.216     -5.806      0.000   -1524.281    -754.251\n",
       "region_southeast -2565.7182    381.425     -6.727      0.000   -3314.152   -1817.285\n",
       "region_southwest -1358.8266    202.008     -6.727      0.000   -1755.207    -962.446\n",
       "==============================================================================\n",
       "Omnibus:                      252.330   Durbin-Watson:                   2.085\n",
       "Prob(Omnibus):                  0.000   Jarque-Bera (JB):              613.798\n",
       "Skew:                           1.253   Prob(JB):                    5.19e-134\n",
       "Kurtosis:                       5.737   Cond. No.                     1.12e+18\n",
       "==============================================================================\n",
       "\n",
       "Notes:\n",
       "[1] Standard Errors assume that the covariance matrix of the errors is correctly specified.\n",
       "[2] The smallest eigenvalue is 2.26e-30. This might indicate that there are\n",
       "strong multicollinearity problems or that the design matrix is singular.\n",
       "\"\"\""
      ]
     },
     "execution_count": 24,
     "metadata": {},
     "output_type": "execute_result"
    }
   ],
   "source": [
    "from sklearn.model_selection import train_test_split\n",
    "from sklearn.linear_model import LinearRegression\n",
    "from sklearn.metrics import mean_squared_error, r2_score\n",
    "import statsmodels.api as sm\n",
    "# Split the data into features (X) and target variable (y)\n",
    "X = df_encoded.drop('charges', axis=1)  # Features\n",
    "y = df_encoded['charges']  # Target variable\n",
    "\n",
    "# Split the data into training and testing sets (80% train, 20% test)\n",
    "X_train, X_test, y_train, y_test = train_test_split(X, y, test_size=0.2, random_state=42)\n",
    "\n",
    "# Create a linear regression model\n",
    "regression_model = sm.OLS(y_train, sm.add_constant(X_train)).fit()\n",
    "regression_model.summary()"
   ]
  },
  {
   "cell_type": "markdown",
   "metadata": {},
   "source": [
    "**Findings-**\n",
    "* The R-squared value of 0.742 indicates that the model explains 74.2% of the variance in 'charges.'\n",
    "* The coefficients (coef) show the estimated impact of each predictor on the 'charges' variable. For example, 'smoker' has a strong positive impact (coefficient of 2.365e+04), meaning that being a smoker is associated with significantly higher charges.\n",
    "* The p-values (P>|t|) indicate the statistical significance of each predictor. Low p-values (typically < 0.05) suggest that a predictor is statistically significant in explaining the variance in 'charges.'\n",
    "* The adjusted R-squared value (0.740) adjusts R-squared for the number of predictors, providing a more reliable measure of model goodness-of-fit.\n",
    "* The model's F-statistic (380.9) assesses the overall significance of the model, with a very low p-value (1.32e-305), indicating that the model is statistically significant.\n",
    "* Other statistics, such as the Durbin-Watson statistic (2.085) suggests no significant autocorrelation (residuals are independent)"
   ]
  },
  {
   "cell_type": "markdown",
   "metadata": {},
   "source": [
    "# Checking Assumptions\n",
    "1.No Multicollinearity\n",
    "\n",
    "2.Mean of residuals should be 0\n",
    "\n",
    "3.No Heteroscedasticity\n",
    "\n",
    "4.Linearity of variables\n",
    "\n",
    "5.Normality of error terms\n",
    "\n",
    "6.No auto correlation among the residuals"
   ]
  },
  {
   "cell_type": "markdown",
   "metadata": {
    "execution": {
     "iopub.execute_input": "2023-10-05T14:10:59.256099Z",
     "iopub.status.busy": "2023-10-05T14:10:59.255622Z",
     "iopub.status.idle": "2023-10-05T14:10:59.263653Z",
     "shell.execute_reply": "2023-10-05T14:10:59.262037Z",
     "shell.execute_reply.started": "2023-10-05T14:10:59.256057Z"
    }
   },
   "source": [
    "# #1. No Multicollinearity- Multicollinearity refers to a statistical phenomenon in regression analysis where two or more independent variables in a model are highly correlated with each other.\n",
    "It should not be in our data. We can check this using **Variance Inflation Factor (VIF)** values\n"
   ]
  },
  {
   "cell_type": "code",
   "execution_count": 25,
   "metadata": {
    "execution": {
     "iopub.execute_input": "2023-10-05T14:34:01.936865Z",
     "iopub.status.busy": "2023-10-05T14:34:01.936306Z",
     "iopub.status.idle": "2023-10-05T14:34:02.047303Z",
     "shell.execute_reply": "2023-10-05T14:34:02.046006Z",
     "shell.execute_reply.started": "2023-10-05T14:34:01.936824Z"
    }
   },
   "outputs": [
    {
     "name": "stdout",
     "output_type": "stream",
     "text": [
      "[[19.   27.9   0.   ...  0.    0.    1.  ]\n",
      " [18.   33.77  1.   ...  0.    1.    0.  ]\n",
      " [28.   33.    3.   ...  0.    1.    0.  ]\n",
      " ...\n",
      " [18.   36.85  0.   ...  0.    1.    0.  ]\n",
      " [21.   25.8   0.   ...  0.    0.    1.  ]\n",
      " [61.   29.07  0.   ...  1.    0.    0.  ]]\n"
     ]
    },
    {
     "name": "stderr",
     "output_type": "stream",
     "text": [
      "C:\\Users\\USER\\anaconda3\\lib\\site-packages\\statsmodels\\stats\\outliers_influence.py:195: RuntimeWarning: divide by zero encountered in double_scalars\n",
      "  vif = 1. / (1. - r_squared_i)\n"
     ]
    },
    {
     "data": {
      "text/html": [
       "<div>\n",
       "<style scoped>\n",
       "    .dataframe tbody tr th:only-of-type {\n",
       "        vertical-align: middle;\n",
       "    }\n",
       "\n",
       "    .dataframe tbody tr th {\n",
       "        vertical-align: top;\n",
       "    }\n",
       "\n",
       "    .dataframe thead th {\n",
       "        text-align: right;\n",
       "    }\n",
       "</style>\n",
       "<table border=\"1\" class=\"dataframe\">\n",
       "  <thead>\n",
       "    <tr style=\"text-align: right;\">\n",
       "      <th></th>\n",
       "      <th>column</th>\n",
       "      <th>VIF</th>\n",
       "    </tr>\n",
       "  </thead>\n",
       "  <tbody>\n",
       "    <tr>\n",
       "      <th>0</th>\n",
       "      <td>age</td>\n",
       "      <td>1.016822</td>\n",
       "    </tr>\n",
       "    <tr>\n",
       "      <th>1</th>\n",
       "      <td>bmi</td>\n",
       "      <td>1.106630</td>\n",
       "    </tr>\n",
       "    <tr>\n",
       "      <th>2</th>\n",
       "      <td>children</td>\n",
       "      <td>1.004011</td>\n",
       "    </tr>\n",
       "    <tr>\n",
       "      <th>3</th>\n",
       "      <td>smoker</td>\n",
       "      <td>inf</td>\n",
       "    </tr>\n",
       "    <tr>\n",
       "      <th>4</th>\n",
       "      <td>is_male</td>\n",
       "      <td>inf</td>\n",
       "    </tr>\n",
       "    <tr>\n",
       "      <th>5</th>\n",
       "      <td>is_smoker</td>\n",
       "      <td>inf</td>\n",
       "    </tr>\n",
       "    <tr>\n",
       "      <th>6</th>\n",
       "      <td>is_southwest</td>\n",
       "      <td>inf</td>\n",
       "    </tr>\n",
       "    <tr>\n",
       "      <th>7</th>\n",
       "      <td>is_northeast</td>\n",
       "      <td>inf</td>\n",
       "    </tr>\n",
       "    <tr>\n",
       "      <th>8</th>\n",
       "      <td>is_northwest</td>\n",
       "      <td>inf</td>\n",
       "    </tr>\n",
       "    <tr>\n",
       "      <th>9</th>\n",
       "      <td>sex_female</td>\n",
       "      <td>inf</td>\n",
       "    </tr>\n",
       "    <tr>\n",
       "      <th>10</th>\n",
       "      <td>sex_male</td>\n",
       "      <td>inf</td>\n",
       "    </tr>\n",
       "    <tr>\n",
       "      <th>11</th>\n",
       "      <td>region_northeast</td>\n",
       "      <td>inf</td>\n",
       "    </tr>\n",
       "    <tr>\n",
       "      <th>12</th>\n",
       "      <td>region_northwest</td>\n",
       "      <td>inf</td>\n",
       "    </tr>\n",
       "    <tr>\n",
       "      <th>13</th>\n",
       "      <td>region_southeast</td>\n",
       "      <td>inf</td>\n",
       "    </tr>\n",
       "    <tr>\n",
       "      <th>14</th>\n",
       "      <td>region_southwest</td>\n",
       "      <td>inf</td>\n",
       "    </tr>\n",
       "  </tbody>\n",
       "</table>\n",
       "</div>"
      ],
      "text/plain": [
       "              column       VIF\n",
       "0                age  1.016822\n",
       "1                bmi  1.106630\n",
       "2           children  1.004011\n",
       "3             smoker       inf\n",
       "4            is_male       inf\n",
       "5          is_smoker       inf\n",
       "6       is_southwest       inf\n",
       "7       is_northeast       inf\n",
       "8       is_northwest       inf\n",
       "9         sex_female       inf\n",
       "10          sex_male       inf\n",
       "11  region_northeast       inf\n",
       "12  region_northwest       inf\n",
       "13  region_southeast       inf\n",
       "14  region_southwest       inf"
      ]
     },
     "execution_count": 25,
     "metadata": {},
     "output_type": "execute_result"
    }
   ],
   "source": [
    "from statsmodels.stats.outliers_influence import variance_inflation_factor\n",
    "def get_vif_factors(X):\n",
    "    X_matrix = X.values\n",
    "    print(X_matrix)\n",
    "    vif = [variance_inflation_factor(X_matrix,i) for i in range(X_matrix.shape[1])]\n",
    "    vif_factors = pd.DataFrame()\n",
    "    vif_factors['column'] = X.columns\n",
    "    vif_factors['VIF'] = vif\n",
    "    \n",
    "    return vif_factors\n",
    "get_vif_factors(X)\n",
    "\n"
   ]
  },
  {
   "cell_type": "markdown",
   "metadata": {},
   "source": [
    "**age, bmi, children, smoker**: These predictor variables have VIF values close to 1, indicating little to no multicollinearity with other predictors.\n",
    "**sex_female, sex_male, region_northeast, region_northwest, region_southeast, region_southwest:** have VIF as infinity.This happens because dummy variables created from categorical features, such as gender or regions, are perfectly correlated. For instance, if you know the gender is female, it automatically implies that it's not male (and vice versa), leading to a perfect linear relationship. Similarly, with regions, knowing three out of the four makes the fourth one redundant. To address this, it's common practice to drop one category from each set of perfectly multicollinear variables to eliminate extreme multicollinearity while maintaining model interpretability."
   ]
  },
  {
   "cell_type": "code",
   "execution_count": 26,
   "metadata": {
    "execution": {
     "iopub.execute_input": "2023-10-05T14:45:05.459462Z",
     "iopub.status.busy": "2023-10-05T14:45:05.458919Z",
     "iopub.status.idle": "2023-10-05T14:45:05.501074Z",
     "shell.execute_reply": "2023-10-05T14:45:05.499767Z",
     "shell.execute_reply.started": "2023-10-05T14:45:05.459424Z"
    }
   },
   "outputs": [
    {
     "name": "stdout",
     "output_type": "stream",
     "text": [
      "[[19.   27.9   0.   ...  0.    0.    1.  ]\n",
      " [18.   33.77  1.   ...  0.    1.    0.  ]\n",
      " [28.   33.    3.   ...  0.    1.    0.  ]\n",
      " ...\n",
      " [18.   36.85  0.   ...  0.    1.    0.  ]\n",
      " [21.   25.8   0.   ...  0.    0.    1.  ]\n",
      " [61.   29.07  0.   ...  1.    0.    0.  ]]\n"
     ]
    },
    {
     "name": "stderr",
     "output_type": "stream",
     "text": [
      "C:\\Users\\USER\\anaconda3\\lib\\site-packages\\statsmodels\\stats\\outliers_influence.py:195: RuntimeWarning: divide by zero encountered in double_scalars\n",
      "  vif = 1. / (1. - r_squared_i)\n"
     ]
    },
    {
     "data": {
      "text/html": [
       "<div>\n",
       "<style scoped>\n",
       "    .dataframe tbody tr th:only-of-type {\n",
       "        vertical-align: middle;\n",
       "    }\n",
       "\n",
       "    .dataframe tbody tr th {\n",
       "        vertical-align: top;\n",
       "    }\n",
       "\n",
       "    .dataframe thead th {\n",
       "        text-align: right;\n",
       "    }\n",
       "</style>\n",
       "<table border=\"1\" class=\"dataframe\">\n",
       "  <thead>\n",
       "    <tr style=\"text-align: right;\">\n",
       "      <th></th>\n",
       "      <th>column</th>\n",
       "      <th>VIF</th>\n",
       "    </tr>\n",
       "  </thead>\n",
       "  <tbody>\n",
       "    <tr>\n",
       "      <th>0</th>\n",
       "      <td>age</td>\n",
       "      <td>1.016822</td>\n",
       "    </tr>\n",
       "    <tr>\n",
       "      <th>1</th>\n",
       "      <td>bmi</td>\n",
       "      <td>1.106630</td>\n",
       "    </tr>\n",
       "    <tr>\n",
       "      <th>2</th>\n",
       "      <td>children</td>\n",
       "      <td>1.004011</td>\n",
       "    </tr>\n",
       "    <tr>\n",
       "      <th>3</th>\n",
       "      <td>smoker</td>\n",
       "      <td>inf</td>\n",
       "    </tr>\n",
       "    <tr>\n",
       "      <th>4</th>\n",
       "      <td>is_male</td>\n",
       "      <td>inf</td>\n",
       "    </tr>\n",
       "    <tr>\n",
       "      <th>5</th>\n",
       "      <td>is_smoker</td>\n",
       "      <td>inf</td>\n",
       "    </tr>\n",
       "    <tr>\n",
       "      <th>6</th>\n",
       "      <td>is_southwest</td>\n",
       "      <td>inf</td>\n",
       "    </tr>\n",
       "    <tr>\n",
       "      <th>7</th>\n",
       "      <td>is_northeast</td>\n",
       "      <td>8.603069</td>\n",
       "    </tr>\n",
       "    <tr>\n",
       "      <th>8</th>\n",
       "      <td>is_northwest</td>\n",
       "      <td>inf</td>\n",
       "    </tr>\n",
       "    <tr>\n",
       "      <th>9</th>\n",
       "      <td>sex_male</td>\n",
       "      <td>inf</td>\n",
       "    </tr>\n",
       "    <tr>\n",
       "      <th>10</th>\n",
       "      <td>region_northwest</td>\n",
       "      <td>inf</td>\n",
       "    </tr>\n",
       "    <tr>\n",
       "      <th>11</th>\n",
       "      <td>region_southeast</td>\n",
       "      <td>11.535195</td>\n",
       "    </tr>\n",
       "    <tr>\n",
       "      <th>12</th>\n",
       "      <td>region_southwest</td>\n",
       "      <td>inf</td>\n",
       "    </tr>\n",
       "  </tbody>\n",
       "</table>\n",
       "</div>"
      ],
      "text/plain": [
       "              column        VIF\n",
       "0                age   1.016822\n",
       "1                bmi   1.106630\n",
       "2           children   1.004011\n",
       "3             smoker        inf\n",
       "4            is_male        inf\n",
       "5          is_smoker        inf\n",
       "6       is_southwest        inf\n",
       "7       is_northeast   8.603069\n",
       "8       is_northwest        inf\n",
       "9           sex_male        inf\n",
       "10  region_northwest        inf\n",
       "11  region_southeast  11.535195\n",
       "12  region_southwest        inf"
      ]
     },
     "execution_count": 26,
     "metadata": {},
     "output_type": "execute_result"
    }
   ],
   "source": [
    "X_reduceddummy=X.drop(columns=['sex_female','region_northeast'])\n",
    "get_vif_factors(X_reduceddummy)"
   ]
  },
  {
   "cell_type": "markdown",
   "metadata": {},
   "source": [
    "Now the dummy variables VIF value has decreassed. Now, **\"age\"** exhibits some level of multicollinearity, but it is not excessively high. **\"bmi\"** stands out with a relatively high VIF value, indicating a strong correlation with other predictors. On the other hand, **\"children\"** and **\"smoker\"** have low VIF values, suggesting little multicollinearity. **\"sex_male,\"** **\"region_northwest,\"** **\"region_southeast,\"** and **\"region_southwest\"** have moderate VIF values, indicating moderate multicollinearity. While multicollinearity is a concern in regression analysis, the degree observed here may not severely affect the model's interpretability or predictive power."
   ]
  },
  {
   "cell_type": "markdown",
   "metadata": {},
   "source": [
    "# Assumption 2: Mean of residuals should be 0"
   ]
  },
  {
   "cell_type": "code",
   "execution_count": 27,
   "metadata": {
    "execution": {
     "iopub.execute_input": "2023-10-05T15:11:03.376282Z",
     "iopub.status.busy": "2023-10-05T15:11:03.375821Z",
     "iopub.status.idle": "2023-10-05T15:11:03.388402Z",
     "shell.execute_reply": "2023-10-05T15:11:03.386995Z",
     "shell.execute_reply.started": "2023-10-05T15:11:03.376253Z"
    }
   },
   "outputs": [
    {
     "data": {
      "text/plain": [
       "1.2428627597498839e-11"
      ]
     },
     "execution_count": 27,
     "metadata": {},
     "output_type": "execute_result"
    }
   ],
   "source": [
    "residuals = regression_model.resid\n",
    "np.mean(residuals)"
   ]
  },
  {
   "cell_type": "markdown",
   "metadata": {},
   "source": [
    "The residual mean is a very small number, which suggests that, on average, the regression model's predictions are indeed very close to the actual observed values, with very little bias. In other words, the model appears to be performing well in terms of its ability to predict the target variable accurately on average."
   ]
  },
  {
   "cell_type": "markdown",
   "metadata": {},
   "source": [
    "# Assumption 3-Homoscedasticity\n",
    "\n",
    "The variance of the residuals, denoted as Var(ε), is constant for all values of the independent variables X. In other words, the spread or dispersion of the residuals should not change as you move along the predicted values."
   ]
  },
  {
   "cell_type": "code",
   "execution_count": 28,
   "metadata": {
    "execution": {
     "iopub.execute_input": "2023-10-05T15:24:21.017212Z",
     "iopub.status.busy": "2023-10-05T15:24:21.016652Z",
     "iopub.status.idle": "2023-10-05T15:24:21.051817Z",
     "shell.execute_reply": "2023-10-05T15:24:21.050254Z",
     "shell.execute_reply.started": "2023-10-05T15:24:21.017173Z"
    }
   },
   "outputs": [
    {
     "name": "stdout",
     "output_type": "stream",
     "text": [
      "Heteroscedasticity is detected (reject null hypothesis)\n"
     ]
    }
   ],
   "source": [
    "import statsmodels.api as sm\n",
    "from statsmodels.stats.diagnostic import het_white\n",
    "\n",
    "# Add a constant column to X_train\n",
    "X_train_with_const = sm.add_constant(X_train)\n",
    "\n",
    "# Calculate the residuals\n",
    "residuals = regression_model.resid \n",
    "\n",
    "# Perform the White test for heteroscedasticity\n",
    "white_test_results = het_white(residuals, X_train_with_const)\n",
    "\n",
    "# Extract the p-values from the test results\n",
    "p_value = white_test_results[1]\n",
    "\n",
    "# Check the p-value to determine if there is heteroscedasticity\n",
    "if p_value < 0.05:\n",
    "    print(\"Heteroscedasticity is detected (reject null hypothesis)\")\n",
    "else:\n",
    "    print(\"No evidence of heteroscedasticity (fail to reject null hypothesis)\")\n"
   ]
  },
  {
   "cell_type": "markdown",
   "metadata": {},
   "source": [
    "Assumption 3 is violated by our datset as Heteroscedasticty is present."
   ]
  },
  {
   "cell_type": "code",
   "execution_count": 29,
   "metadata": {
    "execution": {
     "iopub.execute_input": "2023-10-05T15:36:26.669730Z",
     "iopub.status.busy": "2023-10-05T15:36:26.669225Z",
     "iopub.status.idle": "2023-10-05T15:36:26.711832Z",
     "shell.execute_reply": "2023-10-05T15:36:26.710663Z",
     "shell.execute_reply.started": "2023-10-05T15:36:26.669697Z"
    }
   },
   "outputs": [
    {
     "name": "stdout",
     "output_type": "stream",
     "text": [
      "Heteroscedasticity is detected in the transformed model (reject null hypothesis)\n"
     ]
    }
   ],
   "source": [
    "X_train_transformed = X_train.copy()  # Make a copy of the original data\n",
    "X_train_transformed['bmi_log'] = np.log(X_train_transformed['bmi'])  # Logarithmic transformation\n",
    "\n",
    "# Fit a new linear regression model with the transformed variable\n",
    "model_transformed = sm.OLS(y_train, X_train_transformed).fit()\n",
    "\n",
    "# Add a constant column to X_train_transformed\n",
    "X_train_with_const = sm.add_constant(X_train_transformed)\n",
    "\n",
    "# Fit a new linear regression model with the transformed variables and constant\n",
    "model_transformed = sm.OLS(y_train, X_train_with_const).fit()\n",
    "\n",
    "# Calculate the residuals from the transformed model\n",
    "residuals_transformed = model_transformed.resid\n",
    "\n",
    "# Perform the White's heteroskedasticity test on the transformed residuals\n",
    "white_test_results_transformed = het_white(residuals_transformed, X_train_with_const)\n",
    "\n",
    "# Extract the p-value from the transformed test results\n",
    "p_value_transformed = white_test_results_transformed[1]\n",
    "\n",
    "# Check if heteroscedasticity is present in the transformed model\n",
    "if p_value_transformed < 0.05:\n",
    "    print(\"Heteroscedasticity is detected in the transformed model (reject null hypothesis)\")\n",
    "else:\n",
    "    print(\"No evidence of heteroscedasticity in the transformed model (fail to reject null hypothesis)\")"
   ]
  },
  {
   "cell_type": "markdown",
   "metadata": {},
   "source": [
    "Even the log transformation is not able to remove hetroheteroscedasticity. We can use-\n",
    "**Weighted Least Squares (WLS):** In this method, we assign different weights to each observation based on the variance of the residuals. Observations with larger residuals receive smaller weights, and observations with smaller residuals receive larger weights. This gives more importance to data points with smaller errors, which can help mitigate heteroscedasticity."
   ]
  },
  {
   "cell_type": "code",
   "execution_count": 30,
   "metadata": {
    "execution": {
     "iopub.execute_input": "2023-10-05T15:49:49.281933Z",
     "iopub.status.busy": "2023-10-05T15:49:49.280901Z",
     "iopub.status.idle": "2023-10-05T15:49:49.339295Z",
     "shell.execute_reply": "2023-10-05T15:49:49.337898Z",
     "shell.execute_reply.started": "2023-10-05T15:49:49.281897Z"
    }
   },
   "outputs": [
    {
     "name": "stdout",
     "output_type": "stream",
     "text": [
      "                            WLS Regression Results                            \n",
      "==============================================================================\n",
      "Dep. Variable:                charges   R-squared:                       0.997\n",
      "Model:                            WLS   Adj. R-squared:                  0.997\n",
      "Method:                 Least Squares   F-statistic:                 4.191e+04\n",
      "Date:                Sat, 07 Oct 2023   Prob (F-statistic):               0.00\n",
      "Time:                        01:14:25   Log-Likelihood:                -9801.6\n",
      "No. Observations:                1070   AIC:                         1.962e+04\n",
      "Df Residuals:                    1060   BIC:                         1.967e+04\n",
      "Df Model:                           9                                         \n",
      "Covariance Type:            nonrobust                                         \n",
      "====================================================================================\n",
      "                       coef    std err          t      P>|t|      [0.025      0.975]\n",
      "------------------------------------------------------------------------------------\n",
      "const            -3.112e+04   2606.520    -11.937      0.000   -3.62e+04    -2.6e+04\n",
      "age                258.5693      0.693    373.001      0.000     257.209     259.929\n",
      "bmi               -548.2981     84.329     -6.502      0.000    -713.768    -382.828\n",
      "children           482.0092      7.123     67.666      0.000     468.032     495.987\n",
      "smoker            1.222e+04    139.733     87.452      0.000    1.19e+04    1.25e+04\n",
      "is_male          -1.045e+04    864.118    -12.089      0.000   -1.21e+04   -8750.596\n",
      "is_smoker         1.222e+04    139.733     87.452      0.000    1.19e+04    1.25e+04\n",
      "is_southwest     -6440.8828    520.232    -12.381      0.000   -7461.684   -5420.081\n",
      "is_northeast     -5970.0426    521.797    -11.441      0.000   -6993.914   -4946.171\n",
      "is_northwest     -6185.9644    523.124    -11.825      0.000   -7212.441   -5159.488\n",
      "sex_female       -2.067e+04   1742.445    -11.862      0.000   -2.41e+04   -1.73e+04\n",
      "sex_male         -1.045e+04    864.118    -12.089      0.000   -1.21e+04   -8750.596\n",
      "region_northeast -5970.0426    521.797    -11.441      0.000   -6993.914   -4946.171\n",
      "region_northwest -6185.9644    523.124    -11.825      0.000   -7212.441   -5159.488\n",
      "region_southeast -1.252e+04   1042.054    -12.013      0.000   -1.46e+04   -1.05e+04\n",
      "region_southwest -6440.8828    520.232    -12.381      0.000   -7461.684   -5420.081\n",
      "bmi_log           2.299e+04   2326.385      9.880      0.000    1.84e+04    2.76e+04\n",
      "==============================================================================\n",
      "Omnibus:                       77.563   Durbin-Watson:                   1.968\n",
      "Prob(Omnibus):                  0.000   Jarque-Bera (JB):               92.902\n",
      "Skew:                           0.706   Prob(JB):                     6.71e-21\n",
      "Kurtosis:                       3.301   Cond. No.                     4.22e+18\n",
      "==============================================================================\n",
      "\n",
      "Notes:\n",
      "[1] Standard Errors assume that the covariance matrix of the errors is correctly specified.\n",
      "[2] The smallest eigenvalue is 4.76e-36. This might indicate that there are\n",
      "strong multicollinearity problems or that the design matrix is singular.\n",
      "Heteroscedasticity is detected in the WLS model (reject null hypothesis)\n"
     ]
    }
   ],
   "source": [
    "from statsmodels.regression.linear_model import WLS\n",
    "\n",
    "# Fit a new linear regression model with the transformed variable\n",
    "model_transformed = sm.OLS(y_train, X_train_with_const).fit()\n",
    "\n",
    "# Calculate the residuals from the transformed model\n",
    "residuals_transformed = model_transformed.resid\n",
    "\n",
    "# Fit a weighted least squares (WLS) model\n",
    "wls_model = WLS(y_train, X_train_with_const, weights=1 / (residuals_transformed**2))\n",
    "wls_results = wls_model.fit()\n",
    "\n",
    "# View the summary of WLS results\n",
    "print(wls_results.summary())\n",
    "\n",
    "# Perform the White's heteroskedasticity test on the WLS residuals\n",
    "white_test_results_wls = het_white(wls_results.resid, X_train_with_const)\n",
    "p_value_wls = white_test_results_wls[1]\n",
    "\n",
    "# Check if heteroscedasticity is present in the WLS model\n",
    "if p_value_wls < 0.05:\n",
    "    print(\"Heteroscedasticity is detected in the WLS model (reject null hypothesis)\")\n",
    "else:\n",
    "    print(\"No evidence of heteroscedasticity in the WLS model (fail to reject null hypothesis)\")"
   ]
  },
  {
   "cell_type": "code",
   "execution_count": 31,
   "metadata": {
    "execution": {
     "iopub.execute_input": "2023-10-05T15:58:18.013639Z",
     "iopub.status.busy": "2023-10-05T15:58:18.013122Z",
     "iopub.status.idle": "2023-10-05T15:58:18.075210Z",
     "shell.execute_reply": "2023-10-05T15:58:18.069350Z",
     "shell.execute_reply.started": "2023-10-05T15:58:18.013601Z"
    }
   },
   "outputs": [
    {
     "name": "stdout",
     "output_type": "stream",
     "text": [
      "Heteroscedasticity is detected in the WLS model (reject null hypothesis)\n",
      "                            WLS Regression Results                            \n",
      "==============================================================================\n",
      "Dep. Variable:                charges   R-squared:                       0.997\n",
      "Model:                            WLS   Adj. R-squared:                  0.997\n",
      "Method:                 Least Squares   F-statistic:                 1.862e+04\n",
      "Date:                Sat, 07 Oct 2023   Prob (F-statistic):               0.00\n",
      "Time:                        01:14:25   Log-Likelihood:                -9801.6\n",
      "No. Observations:                1070   AIC:                         1.962e+04\n",
      "Df Residuals:                    1060   BIC:                         1.967e+04\n",
      "Df Model:                           9                                         \n",
      "Covariance Type:                  HC3                                         \n",
      "====================================================================================\n",
      "                       coef    std err          z      P>|z|      [0.025      0.975]\n",
      "------------------------------------------------------------------------------------\n",
      "const            -3.112e+04   6964.964     -4.467      0.000   -4.48e+04   -1.75e+04\n",
      "age                258.5693      2.726     94.863      0.000     253.227     263.912\n",
      "bmi               -548.2981    225.902     -2.427      0.015    -991.058    -105.538\n",
      "children           482.0092     21.113     22.830      0.000     440.628     523.391\n",
      "smoker            1.222e+04    749.880     16.296      0.000    1.08e+04    1.37e+04\n",
      "is_male          -1.045e+04   2310.593     -4.521      0.000    -1.5e+04   -5917.491\n",
      "is_smoker         1.222e+04    749.880     16.296      0.000    1.08e+04    1.37e+04\n",
      "is_southwest     -6440.8828   1417.408     -4.544      0.000   -9218.951   -3662.815\n",
      "is_northeast     -5970.0426   1392.775     -4.286      0.000   -8699.832   -3240.253\n",
      "is_northwest     -6185.9644   1401.600     -4.414      0.000   -8933.050   -3438.879\n",
      "sex_female       -2.067e+04   4654.565     -4.441      0.000   -2.98e+04   -1.15e+04\n",
      "sex_male         -1.045e+04   2310.593     -4.521      0.000    -1.5e+04   -5917.491\n",
      "region_northeast -5970.0426   1392.775     -4.286      0.000   -8699.832   -3240.253\n",
      "region_northwest -6185.9644   1401.600     -4.414      0.000   -8933.050   -3438.879\n",
      "region_southeast -1.252e+04   2755.586     -4.543      0.000   -1.79e+04   -7117.583\n",
      "region_southwest -6440.8828   1417.408     -4.544      0.000   -9218.951   -3662.815\n",
      "bmi_log           2.299e+04   6224.916      3.693      0.000    1.08e+04    3.52e+04\n",
      "==============================================================================\n",
      "Omnibus:                       77.563   Durbin-Watson:                   1.968\n",
      "Prob(Omnibus):                  0.000   Jarque-Bera (JB):               92.902\n",
      "Skew:                           0.706   Prob(JB):                     6.71e-21\n",
      "Kurtosis:                       3.301   Cond. No.                     4.22e+18\n",
      "==============================================================================\n",
      "\n",
      "Notes:\n",
      "[1] Standard Errors are heteroscedasticity robust (HC3)\n",
      "[2] The smallest eigenvalue is 4.76e-36. This might indicate that there are\n",
      "strong multicollinearity problems or that the design matrix is singular.\n"
     ]
    },
    {
     "name": "stderr",
     "output_type": "stream",
     "text": [
      "C:\\Users\\USER\\anaconda3\\lib\\site-packages\\statsmodels\\base\\model.py:1871: ValueWarning: covariance of constraints does not have full rank. The number of constraints is 16, but rank is 10\n",
      "  warnings.warn('covariance of constraints does not have full '\n"
     ]
    }
   ],
   "source": [
    "from statsmodels.regression.linear_model import WLS\n",
    "from statsmodels.stats.diagnostic import het_white\n",
    "\n",
    "# Fit a weighted least squares (WLS) model\n",
    "wls_model = WLS(y_train, X_train_with_const, weights=1 / (residuals_transformed**2))\n",
    "wls_results = wls_model.fit(cov_type='HC3')  # Use robust standard errors\n",
    "\n",
    "# Calculate the residuals from the WLS model\n",
    "residuals_wls = wls_results.resid\n",
    "\n",
    "# Perform the White's heteroscedasticity test on the residuals\n",
    "white_test_results_wls = het_white(residuals_wls, X_train_with_const)\n",
    "\n",
    "# Extract the p-value from the test results\n",
    "p_value_wls = white_test_results_wls[1]\n",
    "\n",
    "# Check if heteroscedasticity is present in the WLS model\n",
    "if p_value_wls < 0.05:\n",
    "    print(\"Heteroscedasticity is detected in the WLS model (reject null hypothesis)\")\n",
    "else:\n",
    "    print(\"No evidence of heteroscedasticity in the WLS model (fail to reject null hypothesis)\")\n",
    "\n",
    "# Print the summary of the WLS model results\n",
    "print(wls_results.summary())\n"
   ]
  },
  {
   "cell_type": "markdown",
   "metadata": {},
   "source": [
    "Tried several methods still getting heteroscedasticity like Outlier Detection etc"
   ]
  },
  {
   "cell_type": "markdown",
   "metadata": {},
   "source": [
    "# Checking Assumption 4: Linearity of variables"
   ]
  },
  {
   "cell_type": "markdown",
   "metadata": {},
   "source": [
    "We can check this by using residuals vs. Fitted Values Plot: Another common method is to create a scatterplot of the residuals (the differences between the actual and predicted values) against the fitted values (the predicted values). In a linear model, you would expect these residuals to be randomly scattered around zero without any noticeable patterns. Patterns in this plot may indicate a lack of linearity."
   ]
  },
  {
   "cell_type": "code",
   "execution_count": 32,
   "metadata": {
    "execution": {
     "iopub.execute_input": "2023-10-05T15:28:07.892160Z",
     "iopub.status.busy": "2023-10-05T15:28:07.891585Z",
     "iopub.status.idle": "2023-10-05T15:28:08.204354Z",
     "shell.execute_reply": "2023-10-05T15:28:08.203023Z",
     "shell.execute_reply.started": "2023-10-05T15:28:07.892120Z"
    }
   },
   "outputs": [
    {
     "data": {
      "image/png": "[encoded data removed]",
      "text/plain": [
       "<Figure size 432x288 with 1 Axes>"
      ]
     },
     "metadata": {},
     "output_type": "display_data"
    }
   ],
   "source": [
    "plt.scatter(regression_model.fittedvalues, residuals)\n",
    "plt.xlabel(\"Fitted Values\")\n",
    "plt.ylabel(\"Residuals\")\n",
    "plt.title(\"Residuals vs. Fitted Values\")\n",
    "plt.show()"
   ]
  },
  {
   "cell_type": "markdown",
   "metadata": {},
   "source": [
    "Assumption 4 is satisfied."
   ]
  },
  {
   "cell_type": "markdown",
   "metadata": {},
   "source": [
    "# Checking Assumption 5: Normality of error terms\n",
    "\n",
    "The residuals should be normally distributed. this can be tested by either looking at distribution plot for residuals or by QQ plot for residuals"
   ]
  },
  {
   "cell_type": "code",
   "execution_count": 33,
   "metadata": {
    "execution": {
     "iopub.execute_input": "2023-10-05T16:12:24.873647Z",
     "iopub.status.busy": "2023-10-05T16:12:24.873161Z",
     "iopub.status.idle": "2023-10-05T16:12:25.318996Z",
     "shell.execute_reply": "2023-10-05T16:12:25.317286Z",
     "shell.execute_reply.started": "2023-10-05T16:12:24.873616Z"
    }
   },
   "outputs": [
    {
     "name": "stderr",
     "output_type": "stream",
     "text": [
      "C:\\Users\\USER\\anaconda3\\lib\\site-packages\\seaborn\\distributions.py:2619: FutureWarning: `distplot` is a deprecated function and will be removed in a future version. Please adapt your code to use either `displot` (a figure-level function with similar flexibility) or `histplot` (an axes-level function for histograms).\n",
      "  warnings.warn(msg, FutureWarning)\n"
     ]
    },
    {
     "data": {
      "text/plain": [
       "<AxesSubplot:ylabel='Density'>"
      ]
     },
     "execution_count": 33,
     "metadata": {},
     "output_type": "execute_result"
    },
    {
     "data": {
      "image/png": "[encoded data removed]",
      "text/plain": [
       "<Figure size 432x288 with 1 Axes>"
      ]
     },
     "metadata": {},
     "output_type": "display_data"
    }
   ],
   "source": [
    "sns.distplot(residuals)"
   ]
  },
  {
   "cell_type": "code",
   "execution_count": 34,
   "metadata": {
    "execution": {
     "iopub.execute_input": "2023-10-05T16:12:52.605857Z",
     "iopub.status.busy": "2023-10-05T16:12:52.605121Z",
     "iopub.status.idle": "2023-10-05T16:12:52.898758Z",
     "shell.execute_reply": "2023-10-05T16:12:52.897386Z",
     "shell.execute_reply.started": "2023-10-05T16:12:52.605819Z"
    }
   },
   "outputs": [
    {
     "data": {
      "image/png": "[encoded data removed]",
      "text/plain": [
       "<Figure size 432x288 with 1 Axes>"
      ]
     },
     "metadata": {},
     "output_type": "display_data"
    }
   ],
   "source": [
    "# Plot q-q plot of residuals\n",
    "import pylab\n",
    "import scipy.stats as stats\n",
    "\n",
    "stats.probplot(residuals, dist=\"norm\", plot=pylab)\n",
    "plt.show()"
   ]
  },
  {
   "cell_type": "markdown",
   "metadata": {},
   "source": [
    "The residuals have a distribution close to normal distribution."
   ]
  },
  {
   "cell_type": "markdown",
   "metadata": {},
   "source": [
    "# Assumption 6: No auto correlation among the residuals.\n",
    "\n",
    "\n",
    "We have already tetsed this and gor thr result of Durbin-Watson statistics value in our OLS summary, which came out to be 2.085 suggesting no significant autocorrelation (residuals are independent).\n",
    "\n",
    "The Durbin-Watson statistic typically ranges from 0 to 4:\n",
    "\n",
    "**A value close to 2:** indicates that there is no significant autocorrelation detected in the residuals.\n",
    "\n",
    "**A value less than 2:** A Durbin-Watson statistic below 2 suggests positive autocorrelation in the residuals. This means that the residuals tend to be positively correlated with each other.\n",
    "\n",
    "**A value greater than 2:** A Durbin-Watson statistic above 2 suggests negative autocorrelation in the residuals. This means that the residuals tend to be negatively correlated with each other.\n"
   ]
  },
  {
   "cell_type": "code",
   "execution_count": 35,
   "metadata": {
    "execution": {
     "iopub.execute_input": "2023-10-05T16:18:50.030622Z",
     "iopub.status.busy": "2023-10-05T16:18:50.030059Z",
     "iopub.status.idle": "2023-10-05T16:18:50.038209Z",
     "shell.execute_reply": "2023-10-05T16:18:50.036733Z",
     "shell.execute_reply.started": "2023-10-05T16:18:50.030582Z"
    }
   },
   "outputs": [
    {
     "name": "stdout",
     "output_type": "stream",
     "text": [
      "Durbin-Watson statistic: 2.0854107284998724\n"
     ]
    }
   ],
   "source": [
    "durbin_watson_stat = sm.stats.durbin_watson(residuals)\n",
    "print(\"Durbin-Watson statistic:\", durbin_watson_stat)"
   ]
  },
  {
   "cell_type": "markdown",
   "metadata": {},
   "source": [
    "Durbin-Watson statistic value is close to 2 indicates that there is no significant autocorrelation detected in the residuals."
   ]
  },
  {
   "cell_type": "markdown",
   "metadata": {},
   "source": [
    "## XG Boost"
   ]
  },
  {
   "cell_type": "markdown",
   "metadata": {},
   "source": [
    "Although XGBoost is primarily known for its effectiveness in non-linear modeling and tree-based ensembles, such as classification and regression trees (CART) and gradient boosting, it can be used for linear regressio. It doesn't inherently strengthen or improve linear regression itself. Instead, it provides a flexible framework that can be adapted for linear regression tasks when needed."
   ]
  },
  {
   "cell_type": "code",
   "execution_count": 40,
   "metadata": {},
   "outputs": [
    {
     "name": "stdout",
     "output_type": "stream",
     "text": [
      "Mean Squared Error (MSE): 22454415.79\n",
      "R-squared (R2): 0.86\n"
     ]
    }
   ],
   "source": [
    "from xgboost import XGBRegressor\n",
    "from sklearn.metrics import mean_squared_error, r2_score\n",
    "\n",
    "# Load your dataset and prepare the features (X) and target variable (Y)\n",
    "\n",
    "# Split the data into training and testing sets\n",
    "X_train, X_test, y_train, y_test = train_test_split(X, y., test_size=0.2, random_state=42)\n",
    "\n",
    "# Create an XGBoost Regressor with linear regression objective\n",
    "xgb_regressor = XGBRegressor(objective='reg:squarederror', random_state=42)\n",
    "\n",
    "# Fit the model to the training data\n",
    "xgb_regressor.fit(X_train, y_train)\n",
    "\n",
    "# Make predictions on the test data\n",
    "y_pred = xgb_regressor.predict(X_test)\n",
    "\n",
    "# Evaluate the model's performance\n",
    "mse = mean_squared_error(y_test, y_pred)\n",
    "r2 = r2_score(y_test, y_pred)\n",
    "\n",
    "print(f\"Mean Squared Error (MSE): {mse:.2f}\")\n",
    "print(f\"R-squared (R2): {r2:.2f}\")\n"
   ]
  },
  {
   "cell_type": "markdown",
   "metadata": {},
   "source": [
    "As we can see improvement in R2 from 0.742 to 0.86 suggests that XGBoost is better suited to model the relationship between the independent and dependent variables in your dataset. It's not uncommon for machine learning models like XGBoost to outperform linear regression, especially when dealing with complex or non-linear data patterns.\n",
    "\n",
    "However, the trade-off between accuracy and explainability is crucial. XGBoost excels in accuracy but lacks interpretability, while linear models like OLS are interpretable but may sacrifice some predictive power. The choice depends on your application's needs and the importance of transparency, trust, fairness, and compliance. Hybrid approaches or interpretability techniques can bridge the gap, but always involve domain experts and stakeholders in the decision-making process."
   ]
  }
 ],
 "metadata": {
  "kernelspec": {
   "display_name": "Python 3 (ipykernel)",
   "language": "python",
   "name": "python3"
  },
  "language_info": {
   "codemirror_mode": {
    "name": "ipython",
    "version": 3
   },
   "file_extension": ".py",
   "mimetype": "text/x-python",
   "name": "python",
   "nbconvert_exporter": "python",
   "pygments_lexer": "ipython3",
   "version": "3.10.9"
  }
 },
 "nbformat": 4,
 "nbformat_minor": 4
}
